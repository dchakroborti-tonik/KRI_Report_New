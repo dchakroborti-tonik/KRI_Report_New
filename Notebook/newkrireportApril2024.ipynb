{
 "cells": [
  {
   "cell_type": "markdown",
   "metadata": {},
   "source": [
    "# <div align=\"center\" style=\"color: #ff5733;\">New KPI Report</div>"
   ]
  },
  {
   "cell_type": "markdown",
   "metadata": {},
   "source": [
    "## *Requestor is Jennyfer & Anne*"
   ]
  },
  {
   "cell_type": "code",
   "execution_count": 1,
   "metadata": {},
   "outputs": [],
   "source": [
    "# %% [markdown]\n",
    "# # Jupyter Notebook Loading Header\n",
    "#\n",
    "# This is a custom loading header for Jupyter Notebooks in Visual Studio Code.\n",
    "# It includes common imports and settings to get you started quickly.\n",
    "\n",
    "# %% [markdown]\n",
    "## Import Libraries\n",
    "import pandas as pd\n",
    "import numpy as np\n",
    "import matplotlib.pyplot as plt\n",
    "import seaborn as sns\n",
    "from google.cloud import bigquery\n",
    "import os\n",
    "path = r'C:\\Users\\DwaipayanChakroborti\\AppData\\Roaming\\gcloud\\legacy_credentials\\dchakroborti@tonikbank.com\\adc.json'\n",
    "os.environ['GOOGLE_APPLICATION_CREDENTIALS'] = path\n",
    "client = bigquery.Client(project='prj-prod-dataplatform')\n",
    "\n",
    "# %% [markdown]\n",
    "## Configure Settings\n",
    "# Set options or configurations as needed\n",
    "# Example: pd.set_option('display.max_columns', None)"
   ]
  },
  {
   "cell_type": "markdown",
   "metadata": {},
   "source": [
    "# FPD30 July 2024 Month End"
   ]
  },
  {
   "cell_type": "code",
   "execution_count": 2,
   "metadata": {},
   "outputs": [
    {
     "name": "stdout",
     "output_type": "stream",
     "text": [
      "Job ID 0247850f-60c8-4fde-8fc8-4b213667a98c successfully executed: 100%|\u001b[32m██████████\u001b[0m|\n",
      "Downloading: 100%|\u001b[32m██████████\u001b[0m|\n"
     ]
    },
    {
     "data": {
      "text/html": [
       "<div>\n",
       "<style scoped>\n",
       "    .dataframe tbody tr th:only-of-type {\n",
       "        vertical-align: middle;\n",
       "    }\n",
       "\n",
       "    .dataframe tbody tr th {\n",
       "        vertical-align: top;\n",
       "    }\n",
       "\n",
       "    .dataframe thead th {\n",
       "        text-align: right;\n",
       "    }\n",
       "</style>\n",
       "<table border=\"1\" class=\"dataframe\">\n",
       "  <thead>\n",
       "    <tr style=\"text-align: right;\">\n",
       "      <th></th>\n",
       "      <th>new_loan_type</th>\n",
       "      <th>percentage_of_FPD30</th>\n",
       "    </tr>\n",
       "  </thead>\n",
       "  <tbody>\n",
       "    <tr>\n",
       "      <th>0</th>\n",
       "      <td>Flex</td>\n",
       "      <td>0.820</td>\n",
       "    </tr>\n",
       "    <tr>\n",
       "      <th>1</th>\n",
       "      <td>SIL-Instore</td>\n",
       "      <td>6.629</td>\n",
       "    </tr>\n",
       "    <tr>\n",
       "      <th>2</th>\n",
       "      <td>Quick</td>\n",
       "      <td>8.236</td>\n",
       "    </tr>\n",
       "  </tbody>\n",
       "</table>\n",
       "</div>"
      ],
      "text/plain": [
       "  new_loan_type  percentage_of_FPD30\n",
       "0          Flex                0.820\n",
       "1   SIL-Instore                6.629\n",
       "2         Quick                8.236"
      ]
     },
     "execution_count": 2,
     "metadata": {},
     "output_type": "execute_result"
    }
   ],
   "source": [
    "sq = \"\"\"SELECT t1.new_loan_type,\n",
    "ROUND(SUM(CASE when t1.defFPD30 = 1 then 1 ELSE 0 end )/sum(t1.obsFPD30)*100,3) as percentage_of_FPD30\n",
    "from `prj-prod-dataplatform.risk_credit_mis.loan_master_table` t1\n",
    "inner JOIN prj-prod-dataplatform.risk_credit_mis.loan_bucket_flow_report_core t2\n",
    "ON\n",
    "t1.loanAccountNumber = t2.loanAccountNumber\n",
    "WHERE t1.flagDisbursement = 1\n",
    "and t1.new_loan_type in ('Quick','Flex','SIL-Instore')\n",
    "and t2.loanStatus in ('In Arrears','Normal')\n",
    "and t2.bucketDate in ('2024-07-31')\n",
    "GROUP BY 1;\"\"\"\n",
    "\n",
    "july24fpd30 = client.query(sq).to_dataframe(progress_bar_type='tqdm')\n",
    "july24fpd30"
   ]
  },
  {
   "cell_type": "markdown",
   "metadata": {},
   "source": [
    "# 30+, 60+, 90+ for July 2024"
   ]
  },
  {
   "cell_type": "code",
   "execution_count": 4,
   "metadata": {},
   "outputs": [
    {
     "name": "stdout",
     "output_type": "stream",
     "text": [
      "Job ID 5a8aaec8-a2e3-4552-af38-ded83d065e3d successfully executed: 100%|\u001b[32m██████████\u001b[0m|\n",
      "Downloading: 100%|\u001b[32m██████████\u001b[0m|\n"
     ]
    },
    {
     "data": {
      "text/html": [
       "<div>\n",
       "<style scoped>\n",
       "    .dataframe tbody tr th:only-of-type {\n",
       "        vertical-align: middle;\n",
       "    }\n",
       "\n",
       "    .dataframe tbody tr th {\n",
       "        vertical-align: top;\n",
       "    }\n",
       "\n",
       "    .dataframe thead th {\n",
       "        text-align: right;\n",
       "    }\n",
       "</style>\n",
       "<table border=\"1\" class=\"dataframe\">\n",
       "  <thead>\n",
       "    <tr style=\"text-align: right;\">\n",
       "      <th></th>\n",
       "      <th>new_loan_type</th>\n",
       "      <th>thirtyplus</th>\n",
       "      <th>sixtyplus</th>\n",
       "      <th>nintyplus</th>\n",
       "    </tr>\n",
       "  </thead>\n",
       "  <tbody>\n",
       "    <tr>\n",
       "      <th>0</th>\n",
       "      <td>Flex</td>\n",
       "      <td>35.363</td>\n",
       "      <td>31.030</td>\n",
       "      <td>26.171</td>\n",
       "    </tr>\n",
       "    <tr>\n",
       "      <th>1</th>\n",
       "      <td>Quick</td>\n",
       "      <td>46.535</td>\n",
       "      <td>39.227</td>\n",
       "      <td>43.690</td>\n",
       "    </tr>\n",
       "    <tr>\n",
       "      <th>2</th>\n",
       "      <td>SIL-Instore</td>\n",
       "      <td>21.953</td>\n",
       "      <td>15.989</td>\n",
       "      <td>20.882</td>\n",
       "    </tr>\n",
       "  </tbody>\n",
       "</table>\n",
       "</div>"
      ],
      "text/plain": [
       "  new_loan_type  thirtyplus  sixtyplus  nintyplus\n",
       "0          Flex      35.363     31.030     26.171\n",
       "1         Quick      46.535     39.227     43.690\n",
       "2   SIL-Instore      21.953     15.989     20.882"
      ]
     },
     "execution_count": 4,
     "metadata": {},
     "output_type": "execute_result"
    }
   ],
   "source": [
    "sq = \"\"\"with b as\n",
    "(select t1.new_loan_type \n",
    ", count(distinct t2.loanAccountNumber) cnt_loan\n",
    ", count(distinct case when t2.Max_current_DPD >=30 then t2.loanAccountNumber end) thirtyplus\n",
    ", count(distinct case when date_diff(date(t2.bucketDate), date(t2.firstduedate), day) >=30 then t2.loanAccountNumber end) obsthirtyplus\n",
    ", count(distinct case when t2.Max_current_DPD >=60 then t2.loanAccountNumber end) sixtyplus\n",
    ", count(distinct case when date_diff(date(t2.bucketDate), date(t2.firstduedate), day) >=60 then t2.loanAccountNumber end) obssixtyplus\n",
    ", count(distinct case when t2.Max_current_DPD >=90 then t2.loanAccountNumber end) nintyplus\n",
    ", count(distinct case when date_diff(date(t2.bucketDate), date(t2.firstduedate), day) >= 90 then t2.loanAccountNumber end) obsnintyplus\n",
    "from `risk_credit_mis.loan_bucket_flow_report_core` t2\n",
    "inner join `risk_credit_mis.loan_master_table` t1 on t2.loanAccountNumber = t1.loanAccountNumber\n",
    "WHERE t1.flagDisbursement = 1\n",
    "and t1.new_loan_type in ('Quick','Flex','SIL-Instore')\n",
    "and t2.loanStatus in ('In Arrears','Normal')\n",
    "and t2.bucketDate in ('2024-07-31')\n",
    "group by 1\n",
    ")\n",
    "select \n",
    "new_loan_type,\n",
    "round(sum(thirtyplus)/sum(obsthirtyplus)*100, 3) thirtyplus,\n",
    "round(sum(sixtyplus)/sum(obsthirtyplus)*100, 3) sixtyplus,\n",
    "round(sum(nintyplus)/sum(obsnintyplus)*100, 3) nintyplus,\n",
    "from b\n",
    "group by 1\n",
    "order by 1\n",
    ";\"\"\"\n",
    "\n",
    "secondpartjuly24 = client.query(sq).to_dataframe(progress_bar_type='tqdm')\n",
    "secondpartjuly24"
   ]
  },
  {
   "cell_type": "markdown",
   "metadata": {},
   "source": [
    "# 30+, 60+, 90+ for July 2024 (without Product)"
   ]
  },
  {
   "cell_type": "code",
   "execution_count": 5,
   "metadata": {},
   "outputs": [
    {
     "name": "stdout",
     "output_type": "stream",
     "text": [
      "Job ID 98edc136-9c2e-4430-a04b-40295eb92af9 successfully executed: 100%|\u001b[32m██████████\u001b[0m|\n",
      "Downloading: 100%|\u001b[32m██████████\u001b[0m|\n"
     ]
    },
    {
     "data": {
      "text/html": [
       "<div>\n",
       "<style scoped>\n",
       "    .dataframe tbody tr th:only-of-type {\n",
       "        vertical-align: middle;\n",
       "    }\n",
       "\n",
       "    .dataframe tbody tr th {\n",
       "        vertical-align: top;\n",
       "    }\n",
       "\n",
       "    .dataframe thead th {\n",
       "        text-align: right;\n",
       "    }\n",
       "</style>\n",
       "<table border=\"1\" class=\"dataframe\">\n",
       "  <thead>\n",
       "    <tr style=\"text-align: right;\">\n",
       "      <th></th>\n",
       "      <th>thirtyplus</th>\n",
       "      <th>sixtyplus</th>\n",
       "      <th>nintyplus</th>\n",
       "    </tr>\n",
       "  </thead>\n",
       "  <tbody>\n",
       "    <tr>\n",
       "      <th>0</th>\n",
       "      <td>25.596</td>\n",
       "      <td>19.514</td>\n",
       "      <td>24.962</td>\n",
       "    </tr>\n",
       "  </tbody>\n",
       "</table>\n",
       "</div>"
      ],
      "text/plain": [
       "   thirtyplus  sixtyplus  nintyplus\n",
       "0      25.596     19.514     24.962"
      ]
     },
     "execution_count": 5,
     "metadata": {},
     "output_type": "execute_result"
    }
   ],
   "source": [
    "sq = \"\"\"with b as\n",
    "(select \n",
    "count(distinct t2.loanAccountNumber) cnt_loan\n",
    ", count(distinct case when t2.Max_current_DPD >=30 then t2.loanAccountNumber end) thirtyplus\n",
    ", count(distinct case when date_diff(date(t2.bucketDate), date(t2.firstduedate), day) >=30 then t2.loanAccountNumber end) obsthirtyplus\n",
    ", count(distinct case when t2.Max_current_DPD >=60 then t2.loanAccountNumber end) sixtyplus\n",
    ", count(distinct case when date_diff(date(t2.bucketDate), date(t2.firstduedate), day) >=60 then t2.loanAccountNumber end) obssixtyplus\n",
    ", count(distinct case when t2.Max_current_DPD >=90 then t2.loanAccountNumber end) nintyplus\n",
    ", count(distinct case when date_diff(date(t2.bucketDate), date(t2.firstduedate), day) >= 90 then t2.loanAccountNumber end) obsnintyplus\n",
    "from `risk_credit_mis.loan_bucket_flow_report_core` t2\n",
    "inner join `risk_credit_mis.loan_master_table` t1 on t2.loanAccountNumber = t1.loanAccountNumber\n",
    "WHERE t1.flagDisbursement = 1\n",
    "and t1.new_loan_type in ('Quick','Flex','SIL-Instore')\n",
    "and t2.loanStatus in ('In Arrears','Normal')\n",
    "and t2.bucketDate in ('2024-07-31')\n",
    ")\n",
    "select \n",
    "round(sum(thirtyplus)/sum(obsthirtyplus)*100, 3) thirtyplus,\n",
    "round(sum(sixtyplus)/sum(obsthirtyplus)*100, 3) sixtyplus,\n",
    "round(sum(nintyplus)/sum(obsnintyplus)*100, 3) nintyplus,\n",
    "from b\n",
    "order by 1\n",
    ";\"\"\"\n",
    "\n",
    "thirdpartjuly24 = client.query(sq).to_dataframe(progress_bar_type='tqdm')\n",
    "thirdpartjuly24"
   ]
  },
  {
   "cell_type": "code",
   "execution_count": 6,
   "metadata": {},
   "outputs": [
    {
     "data": {
      "text/html": [
       "<div>\n",
       "<style scoped>\n",
       "    .dataframe tbody tr th:only-of-type {\n",
       "        vertical-align: middle;\n",
       "    }\n",
       "\n",
       "    .dataframe tbody tr th {\n",
       "        vertical-align: top;\n",
       "    }\n",
       "\n",
       "    .dataframe thead th {\n",
       "        text-align: right;\n",
       "    }\n",
       "</style>\n",
       "<table border=\"1\" class=\"dataframe\">\n",
       "  <thead>\n",
       "    <tr style=\"text-align: right;\">\n",
       "      <th></th>\n",
       "      <th>new_loan_type</th>\n",
       "      <th>percentage_of_FPD30</th>\n",
       "      <th>thirtyplus</th>\n",
       "      <th>sixtyplus</th>\n",
       "      <th>nintyplus</th>\n",
       "    </tr>\n",
       "  </thead>\n",
       "  <tbody>\n",
       "    <tr>\n",
       "      <th>0</th>\n",
       "      <td>Flex</td>\n",
       "      <td>0.820</td>\n",
       "      <td>35.363</td>\n",
       "      <td>31.030</td>\n",
       "      <td>26.171</td>\n",
       "    </tr>\n",
       "    <tr>\n",
       "      <th>1</th>\n",
       "      <td>SIL-Instore</td>\n",
       "      <td>6.629</td>\n",
       "      <td>21.953</td>\n",
       "      <td>15.989</td>\n",
       "      <td>20.882</td>\n",
       "    </tr>\n",
       "    <tr>\n",
       "      <th>2</th>\n",
       "      <td>Quick</td>\n",
       "      <td>8.236</td>\n",
       "      <td>46.535</td>\n",
       "      <td>39.227</td>\n",
       "      <td>43.690</td>\n",
       "    </tr>\n",
       "  </tbody>\n",
       "</table>\n",
       "</div>"
      ],
      "text/plain": [
       "  new_loan_type  percentage_of_FPD30  thirtyplus  sixtyplus  nintyplus\n",
       "0          Flex                0.820      35.363     31.030     26.171\n",
       "1   SIL-Instore                6.629      21.953     15.989     20.882\n",
       "2         Quick                8.236      46.535     39.227     43.690"
      ]
     },
     "execution_count": 6,
     "metadata": {},
     "output_type": "execute_result"
    }
   ],
   "source": [
    "dfjuly24 = july24fpd30.merge(secondpartjuly24, on='new_loan_type', how='left')\n",
    "dfjuly24"
   ]
  },
  {
   "cell_type": "code",
   "execution_count": 7,
   "metadata": {},
   "outputs": [
    {
     "data": {
      "text/html": [
       "<div>\n",
       "<style scoped>\n",
       "    .dataframe tbody tr th:only-of-type {\n",
       "        vertical-align: middle;\n",
       "    }\n",
       "\n",
       "    .dataframe tbody tr th {\n",
       "        vertical-align: top;\n",
       "    }\n",
       "\n",
       "    .dataframe thead th {\n",
       "        text-align: right;\n",
       "    }\n",
       "</style>\n",
       "<table border=\"1\" class=\"dataframe\">\n",
       "  <thead>\n",
       "    <tr style=\"text-align: right;\">\n",
       "      <th></th>\n",
       "      <th>new_loan_type</th>\n",
       "      <th>percentage_of_FPD30</th>\n",
       "      <th>thirtyplus</th>\n",
       "      <th>sixtyplus</th>\n",
       "      <th>nintyplus</th>\n",
       "    </tr>\n",
       "  </thead>\n",
       "  <tbody>\n",
       "    <tr>\n",
       "      <th>0</th>\n",
       "      <td>Flex</td>\n",
       "      <td>0.820</td>\n",
       "      <td>35.363</td>\n",
       "      <td>31.030</td>\n",
       "      <td>26.171</td>\n",
       "    </tr>\n",
       "    <tr>\n",
       "      <th>1</th>\n",
       "      <td>SIL-Instore</td>\n",
       "      <td>6.629</td>\n",
       "      <td>21.953</td>\n",
       "      <td>15.989</td>\n",
       "      <td>20.882</td>\n",
       "    </tr>\n",
       "    <tr>\n",
       "      <th>2</th>\n",
       "      <td>Quick</td>\n",
       "      <td>8.236</td>\n",
       "      <td>46.535</td>\n",
       "      <td>39.227</td>\n",
       "      <td>43.690</td>\n",
       "    </tr>\n",
       "    <tr>\n",
       "      <th>3</th>\n",
       "      <td>NaN</td>\n",
       "      <td>NaN</td>\n",
       "      <td>25.596</td>\n",
       "      <td>19.514</td>\n",
       "      <td>24.962</td>\n",
       "    </tr>\n",
       "  </tbody>\n",
       "</table>\n",
       "</div>"
      ],
      "text/plain": [
       "  new_loan_type  percentage_of_FPD30  thirtyplus  sixtyplus  nintyplus\n",
       "0          Flex                0.820      35.363     31.030     26.171\n",
       "1   SIL-Instore                6.629      21.953     15.989     20.882\n",
       "2         Quick                8.236      46.535     39.227     43.690\n",
       "3           NaN                  NaN      25.596     19.514     24.962"
      ]
     },
     "execution_count": 7,
     "metadata": {},
     "output_type": "execute_result"
    }
   ],
   "source": [
    "resultjuly24 = pd.concat([dfjuly24, thirdpartjuly24], ignore_index=True)\n"
   ]
  },
  {
   "cell_type": "code",
   "execution_count": 8,
   "metadata": {},
   "outputs": [
    {
     "data": {
      "text/html": [
       "<div>\n",
       "<style scoped>\n",
       "    .dataframe tbody tr th:only-of-type {\n",
       "        vertical-align: middle;\n",
       "    }\n",
       "\n",
       "    .dataframe tbody tr th {\n",
       "        vertical-align: top;\n",
       "    }\n",
       "\n",
       "    .dataframe thead th {\n",
       "        text-align: right;\n",
       "    }\n",
       "</style>\n",
       "<table border=\"1\" class=\"dataframe\">\n",
       "  <thead>\n",
       "    <tr style=\"text-align: right;\">\n",
       "      <th></th>\n",
       "      <th>new_loan_type</th>\n",
       "      <th>percentage_of_FPD30</th>\n",
       "      <th>thirtyplus</th>\n",
       "      <th>sixtyplus</th>\n",
       "      <th>nintyplus</th>\n",
       "    </tr>\n",
       "  </thead>\n",
       "  <tbody>\n",
       "    <tr>\n",
       "      <th>0</th>\n",
       "      <td>Flex</td>\n",
       "      <td>0.820</td>\n",
       "      <td>35.363</td>\n",
       "      <td>31.030</td>\n",
       "      <td>26.171</td>\n",
       "    </tr>\n",
       "    <tr>\n",
       "      <th>1</th>\n",
       "      <td>SIL-Instore</td>\n",
       "      <td>6.629</td>\n",
       "      <td>21.953</td>\n",
       "      <td>15.989</td>\n",
       "      <td>20.882</td>\n",
       "    </tr>\n",
       "    <tr>\n",
       "      <th>2</th>\n",
       "      <td>Quick</td>\n",
       "      <td>8.236</td>\n",
       "      <td>46.535</td>\n",
       "      <td>39.227</td>\n",
       "      <td>43.690</td>\n",
       "    </tr>\n",
       "    <tr>\n",
       "      <th>3</th>\n",
       "      <td>Portfolio</td>\n",
       "      <td>NaN</td>\n",
       "      <td>25.596</td>\n",
       "      <td>19.514</td>\n",
       "      <td>24.962</td>\n",
       "    </tr>\n",
       "  </tbody>\n",
       "</table>\n",
       "</div>"
      ],
      "text/plain": [
       "  new_loan_type  percentage_of_FPD30  thirtyplus  sixtyplus  nintyplus\n",
       "0          Flex                0.820      35.363     31.030     26.171\n",
       "1   SIL-Instore                6.629      21.953     15.989     20.882\n",
       "2         Quick                8.236      46.535     39.227     43.690\n",
       "3     Portfolio                  NaN      25.596     19.514     24.962"
      ]
     },
     "execution_count": 8,
     "metadata": {},
     "output_type": "execute_result"
    }
   ],
   "source": [
    "resultjuly24['new_loan_type'] = resultjuly24['new_loan_type'].fillna(\"Portfolio\")\n",
    "resultjuly24"
   ]
  },
  {
   "cell_type": "code",
   "execution_count": 9,
   "metadata": {},
   "outputs": [],
   "source": [
    "import pandas as pd\n",
    "from openpyxl import load_workbook\n"
   ]
  },
  {
   "cell_type": "code",
   "execution_count": 18,
   "metadata": {},
   "outputs": [],
   "source": [
    "# Load the existing Excel file\n",
    "existing_excel_file = r'C:\\Users\\DwaipayanChakroborti\\OneDrive - Tonik Financial Pte Ltd\\MyStuff\\Collection\\Jennifer Zaldivar\\KRI_New_Report\\Data\\20240712_KRI_Report_New.xlsx'\n",
    "xls = pd.ExcelFile(existing_excel_file)\n",
    "\n",
    "# Read each existing sheet into separate dataframes\n",
    "df_january = pd.read_excel(xls, sheet_name='January2024')\n",
    "df_february = pd.read_excel(xls, sheet_name='February2024')\n",
    "df_march = pd.read_excel(xls, sheet_name='March2024')\n",
    "df_april = pd.read_excel(xls, sheet_name='April2024')\n",
    "df_may = pd.read_excel(xls, sheet_name='May2024')\n",
    "df_june = pd.read_excel(xls, sheet_name='June2024')\n",
    "\n",
    "\n"
   ]
  },
  {
   "cell_type": "code",
   "execution_count": 19,
   "metadata": {},
   "outputs": [
    {
     "data": {
      "text/html": [
       "<div>\n",
       "<style scoped>\n",
       "    .dataframe tbody tr th:only-of-type {\n",
       "        vertical-align: middle;\n",
       "    }\n",
       "\n",
       "    .dataframe tbody tr th {\n",
       "        vertical-align: top;\n",
       "    }\n",
       "\n",
       "    .dataframe thead th {\n",
       "        text-align: right;\n",
       "    }\n",
       "</style>\n",
       "<table border=\"1\" class=\"dataframe\">\n",
       "  <thead>\n",
       "    <tr style=\"text-align: right;\">\n",
       "      <th></th>\n",
       "      <th>new_loan_type</th>\n",
       "      <th>percentage_of_FPD30</th>\n",
       "      <th>thirtyplus</th>\n",
       "      <th>sixtyplus</th>\n",
       "      <th>nintyplus</th>\n",
       "    </tr>\n",
       "  </thead>\n",
       "  <tbody>\n",
       "    <tr>\n",
       "      <th>0</th>\n",
       "      <td>SIL-Instore</td>\n",
       "      <td>6.831</td>\n",
       "      <td>22.938</td>\n",
       "      <td>17.128</td>\n",
       "      <td>19.962</td>\n",
       "    </tr>\n",
       "    <tr>\n",
       "      <th>1</th>\n",
       "      <td>Quick</td>\n",
       "      <td>10.838</td>\n",
       "      <td>56.998</td>\n",
       "      <td>51.518</td>\n",
       "      <td>53.406</td>\n",
       "    </tr>\n",
       "    <tr>\n",
       "      <th>2</th>\n",
       "      <td>Flex</td>\n",
       "      <td>1.345</td>\n",
       "      <td>37.320</td>\n",
       "      <td>33.141</td>\n",
       "      <td>28.770</td>\n",
       "    </tr>\n",
       "    <tr>\n",
       "      <th>3</th>\n",
       "      <td>Portfolio</td>\n",
       "      <td>NaN</td>\n",
       "      <td>29.413</td>\n",
       "      <td>23.738</td>\n",
       "      <td>27.542</td>\n",
       "    </tr>\n",
       "  </tbody>\n",
       "</table>\n",
       "</div>"
      ],
      "text/plain": [
       "  new_loan_type  percentage_of_FPD30  thirtyplus  sixtyplus  nintyplus\n",
       "0   SIL-Instore                6.831      22.938     17.128     19.962\n",
       "1         Quick               10.838      56.998     51.518     53.406\n",
       "2          Flex                1.345      37.320     33.141     28.770\n",
       "3     Portfolio                  NaN      29.413     23.738     27.542"
      ]
     },
     "execution_count": 19,
     "metadata": {},
     "output_type": "execute_result"
    }
   ],
   "source": [
    "df_june"
   ]
  },
  {
   "cell_type": "code",
   "execution_count": 27,
   "metadata": {},
   "outputs": [
    {
     "data": {
      "text/html": [
       "<div>\n",
       "<style scoped>\n",
       "    .dataframe tbody tr th:only-of-type {\n",
       "        vertical-align: middle;\n",
       "    }\n",
       "\n",
       "    .dataframe tbody tr th {\n",
       "        vertical-align: top;\n",
       "    }\n",
       "\n",
       "    .dataframe thead th {\n",
       "        text-align: right;\n",
       "    }\n",
       "</style>\n",
       "<table border=\"1\" class=\"dataframe\">\n",
       "  <thead>\n",
       "    <tr style=\"text-align: right;\">\n",
       "      <th></th>\n",
       "      <th>new_loan_type</th>\n",
       "      <th>percentage_of_FPD30</th>\n",
       "      <th>thirtyplus</th>\n",
       "      <th>sixtyplus</th>\n",
       "      <th>nintyplus</th>\n",
       "    </tr>\n",
       "  </thead>\n",
       "  <tbody>\n",
       "    <tr>\n",
       "      <th>0</th>\n",
       "      <td>A. Flex</td>\n",
       "      <td>0.820</td>\n",
       "      <td>35.363</td>\n",
       "      <td>31.030</td>\n",
       "      <td>26.171</td>\n",
       "    </tr>\n",
       "    <tr>\n",
       "      <th>1</th>\n",
       "      <td>C. SIL-Instore</td>\n",
       "      <td>6.629</td>\n",
       "      <td>21.953</td>\n",
       "      <td>15.989</td>\n",
       "      <td>20.882</td>\n",
       "    </tr>\n",
       "    <tr>\n",
       "      <th>2</th>\n",
       "      <td>B. Quick</td>\n",
       "      <td>8.236</td>\n",
       "      <td>46.535</td>\n",
       "      <td>39.227</td>\n",
       "      <td>43.690</td>\n",
       "    </tr>\n",
       "    <tr>\n",
       "      <th>3</th>\n",
       "      <td>D. Portfolio</td>\n",
       "      <td>NaN</td>\n",
       "      <td>25.596</td>\n",
       "      <td>19.514</td>\n",
       "      <td>24.962</td>\n",
       "    </tr>\n",
       "  </tbody>\n",
       "</table>\n",
       "</div>"
      ],
      "text/plain": [
       "    new_loan_type  percentage_of_FPD30  thirtyplus  sixtyplus  nintyplus\n",
       "0         A. Flex                0.820      35.363     31.030     26.171\n",
       "1  C. SIL-Instore                6.629      21.953     15.989     20.882\n",
       "2        B. Quick                8.236      46.535     39.227     43.690\n",
       "3    D. Portfolio                  NaN      25.596     19.514     24.962"
      ]
     },
     "execution_count": 27,
     "metadata": {},
     "output_type": "execute_result"
    }
   ],
   "source": [
    "# Mapping function to modify 'new_loan_type' values\n",
    "def modify_loan_type(loan_type):\n",
    "    mapping = {'Flex': 'A. Flex', 'SIL-Instore': 'C. SIL-Instore', 'Quick': 'B. Quick', 'Portfolio': 'D. Portfolio'}\n",
    "    return mapping.get(loan_type, loan_type)  # Return original value if not found\n",
    "\n",
    "# Apply the mapping function to the 'new_loan_type' column\n",
    "resultjuly24['new_loan_type'] = resultjuly24['new_loan_type'].apply(modify_loan_type)\n",
    "resultjuly24"
   ]
  },
  {
   "cell_type": "code",
   "execution_count": 30,
   "metadata": {},
   "outputs": [],
   "source": [
    "# Create a Pandas Excel writer using XlsxWriter as the engine\n",
    "writer = pd.ExcelWriter(r'C:\\Users\\DwaipayanChakroborti\\OneDrive - Tonik Financial Pte Ltd\\MyStuff\\Collection\\Jennifer Zaldivar\\KRI_New_Report\\Data\\20240802_KRI_Report_New.xlsx', engine='xlsxwriter')\n",
    "\n",
    "# Sort each DataFrame by the first column and write to a separate worksheet, ignoring the index\n",
    "df_january.sort_values(by=df_january.columns[0]).to_excel(writer, sheet_name='January2024', index=False)\n",
    "df_february.sort_values(by=df_february.columns[0]).to_excel(writer, sheet_name='February2024', index=False)\n",
    "df_march.sort_values(by=df_march.columns[0]).to_excel(writer, sheet_name='March2024', index=False)\n",
    "df_april.sort_values(by=df_april.columns[0]).to_excel(writer, sheet_name='April2024', index=False)\n",
    "df_may.sort_values(by=df_may.columns[0]).to_excel(writer, sheet_name='May2024', index=False)\n",
    "df_june.sort_values(by=df_june.columns[0]).to_excel(writer, sheet_name='June2024', index=False)\n",
    "resultjuly24.sort_values(by=resultjuly24.columns[0]).to_excel(writer, sheet_name='July2024', index=False)\n",
    "\n",
    "# Close the Pandas Excel writer and output the Excel file\n",
    "writer.close()"
   ]
  },
  {
   "cell_type": "code",
   "execution_count": null,
   "metadata": {},
   "outputs": [],
   "source": []
  }
 ],
 "metadata": {
  "kernelspec": {
   "display_name": "Python 3",
   "language": "python",
   "name": "python3"
  },
  "language_info": {
   "codemirror_mode": {
    "name": "ipython",
    "version": 3
   },
   "file_extension": ".py",
   "mimetype": "text/x-python",
   "name": "python",
   "nbconvert_exporter": "python",
   "pygments_lexer": "ipython3",
   "version": "3.9.19"
  }
 },
 "nbformat": 4,
 "nbformat_minor": 2
}
