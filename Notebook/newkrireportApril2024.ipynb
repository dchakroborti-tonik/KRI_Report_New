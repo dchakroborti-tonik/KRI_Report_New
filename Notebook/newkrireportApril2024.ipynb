{
 "cells": [
  {
   "cell_type": "markdown",
   "metadata": {},
   "source": [
    "# <div align=\"center\" style=\"color: #ff5733;\">New KPI Report</div>"
   ]
  },
  {
   "cell_type": "markdown",
   "metadata": {},
   "source": [
    "## *Requestor is Jennyfer & Anne*"
   ]
  },
  {
   "cell_type": "code",
   "execution_count": 5,
   "metadata": {},
   "outputs": [],
   "source": [
    "# %% [markdown]\n",
    "# # Jupyter Notebook Loading Header\n",
    "#\n",
    "# This is a custom loading header for Jupyter Notebooks in Visual Studio Code.\n",
    "# It includes common imports and settings to get you started quickly.\n",
    "\n",
    "# %% [markdown]\n",
    "## Import Libraries\n",
    "import pandas as pd\n",
    "import numpy as np\n",
    "import matplotlib.pyplot as plt\n",
    "import seaborn as sns\n",
    "from google.cloud import bigquery\n",
    "import os\n",
    "path = r'C:\\Users\\DwaipayanChakroborti\\AppData\\Roaming\\gcloud\\legacy_credentials\\dchakroborti@tonikbank.com\\adc.json'\n",
    "os.environ['GOOGLE_APPLICATION_CREDENTIALS'] = path\n",
    "client = bigquery.Client(project='prj-prod-dataplatform')\n",
    "\n",
    "# %% [markdown]\n",
    "## Configure Settings\n",
    "# Set options or configurations as needed\n",
    "# Example: pd.set_option('display.max_columns', None)"
   ]
  },
  {
   "cell_type": "markdown",
   "metadata": {},
   "source": [
    "# FPD30 June 2024 Month End"
   ]
  },
  {
   "cell_type": "code",
   "execution_count": 6,
   "metadata": {},
   "outputs": [
    {
     "name": "stdout",
     "output_type": "stream",
     "text": [
      "Job ID 5893b079-ea58-4540-b884-c309e8b6e1c2 successfully executed: 100%|\u001b[32m██████████\u001b[0m|\n",
      "Downloading: 100%|\u001b[32m██████████\u001b[0m|\n"
     ]
    },
    {
     "data": {
      "text/html": [
       "<div>\n",
       "<style scoped>\n",
       "    .dataframe tbody tr th:only-of-type {\n",
       "        vertical-align: middle;\n",
       "    }\n",
       "\n",
       "    .dataframe tbody tr th {\n",
       "        vertical-align: top;\n",
       "    }\n",
       "\n",
       "    .dataframe thead th {\n",
       "        text-align: right;\n",
       "    }\n",
       "</style>\n",
       "<table border=\"1\" class=\"dataframe\">\n",
       "  <thead>\n",
       "    <tr style=\"text-align: right;\">\n",
       "      <th></th>\n",
       "      <th>new_loan_type</th>\n",
       "      <th>percentage_of_FPD30</th>\n",
       "    </tr>\n",
       "  </thead>\n",
       "  <tbody>\n",
       "    <tr>\n",
       "      <th>0</th>\n",
       "      <td>SIL-Instore</td>\n",
       "      <td>6.831</td>\n",
       "    </tr>\n",
       "    <tr>\n",
       "      <th>1</th>\n",
       "      <td>Quick</td>\n",
       "      <td>10.838</td>\n",
       "    </tr>\n",
       "    <tr>\n",
       "      <th>2</th>\n",
       "      <td>Flex</td>\n",
       "      <td>1.345</td>\n",
       "    </tr>\n",
       "  </tbody>\n",
       "</table>\n",
       "</div>"
      ],
      "text/plain": [
       "  new_loan_type  percentage_of_FPD30\n",
       "0   SIL-Instore                6.831\n",
       "1         Quick               10.838\n",
       "2          Flex                1.345"
      ]
     },
     "execution_count": 6,
     "metadata": {},
     "output_type": "execute_result"
    }
   ],
   "source": [
    "sq = \"\"\"SELECT t1.new_loan_type,\n",
    "ROUND(SUM(CASE when t1.defFPD30 = 1 then 1 ELSE 0 end )/sum(t1.obsFPD30)*100,3) as percentage_of_FPD30\n",
    "from `prj-prod-dataplatform.risk_credit_mis.loan_master_table` t1\n",
    "inner JOIN prj-prod-dataplatform.risk_credit_mis.loan_bucket_flow_report_core t2\n",
    "ON\n",
    "t1.loanAccountNumber = t2.loanAccountNumber\n",
    "WHERE t1.flagDisbursement = 1\n",
    "and t1.new_loan_type in ('Quick','Flex','SIL-Instore')\n",
    "and t2.loanStatus in ('In Arrears','Normal')\n",
    "and t2.bucketDate in ('2024-06-30')\n",
    "GROUP BY 1;\"\"\"\n",
    "\n",
    "june24fpd30 = client.query(sq).to_dataframe(progress_bar_type='tqdm')\n",
    "june24fpd30"
   ]
  },
  {
   "cell_type": "markdown",
   "metadata": {},
   "source": [
    "# 30+, 60+, 90+ for June 2024"
   ]
  },
  {
   "cell_type": "code",
   "execution_count": 7,
   "metadata": {},
   "outputs": [
    {
     "name": "stdout",
     "output_type": "stream",
     "text": [
      "Job ID d579071b-3118-4b3f-8cce-06e6d2df45b6 successfully executed: 100%|\u001b[32m██████████\u001b[0m|\n",
      "Downloading: 100%|\u001b[32m██████████\u001b[0m|\n"
     ]
    },
    {
     "data": {
      "text/html": [
       "<div>\n",
       "<style scoped>\n",
       "    .dataframe tbody tr th:only-of-type {\n",
       "        vertical-align: middle;\n",
       "    }\n",
       "\n",
       "    .dataframe tbody tr th {\n",
       "        vertical-align: top;\n",
       "    }\n",
       "\n",
       "    .dataframe thead th {\n",
       "        text-align: right;\n",
       "    }\n",
       "</style>\n",
       "<table border=\"1\" class=\"dataframe\">\n",
       "  <thead>\n",
       "    <tr style=\"text-align: right;\">\n",
       "      <th></th>\n",
       "      <th>new_loan_type</th>\n",
       "      <th>thirtyplus</th>\n",
       "      <th>sixtyplus</th>\n",
       "      <th>nintyplus</th>\n",
       "    </tr>\n",
       "  </thead>\n",
       "  <tbody>\n",
       "    <tr>\n",
       "      <th>0</th>\n",
       "      <td>Flex</td>\n",
       "      <td>37.320</td>\n",
       "      <td>33.141</td>\n",
       "      <td>28.770</td>\n",
       "    </tr>\n",
       "    <tr>\n",
       "      <th>1</th>\n",
       "      <td>Quick</td>\n",
       "      <td>56.998</td>\n",
       "      <td>51.518</td>\n",
       "      <td>53.406</td>\n",
       "    </tr>\n",
       "    <tr>\n",
       "      <th>2</th>\n",
       "      <td>SIL-Instore</td>\n",
       "      <td>22.938</td>\n",
       "      <td>17.128</td>\n",
       "      <td>19.962</td>\n",
       "    </tr>\n",
       "  </tbody>\n",
       "</table>\n",
       "</div>"
      ],
      "text/plain": [
       "  new_loan_type  thirtyplus  sixtyplus  nintyplus\n",
       "0          Flex      37.320     33.141     28.770\n",
       "1         Quick      56.998     51.518     53.406\n",
       "2   SIL-Instore      22.938     17.128     19.962"
      ]
     },
     "execution_count": 7,
     "metadata": {},
     "output_type": "execute_result"
    }
   ],
   "source": [
    "sq = \"\"\"with b as\n",
    "(select t1.new_loan_type \n",
    ", count(distinct t2.loanAccountNumber) cnt_loan\n",
    ", count(distinct case when t2.Max_current_DPD >=30 then t2.loanAccountNumber end) thirtyplus\n",
    ", count(distinct case when date_diff(date(t2.bucketDate), date(t2.firstduedate), day) >=30 then t2.loanAccountNumber end) obsthirtyplus\n",
    ", count(distinct case when t2.Max_current_DPD >=60 then t2.loanAccountNumber end) sixtyplus\n",
    ", count(distinct case when date_diff(date(t2.bucketDate), date(t2.firstduedate), day) >=60 then t2.loanAccountNumber end) obssixtyplus\n",
    ", count(distinct case when t2.Max_current_DPD >=90 then t2.loanAccountNumber end) nintyplus\n",
    ", count(distinct case when date_diff(date(t2.bucketDate), date(t2.firstduedate), day) >= 90 then t2.loanAccountNumber end) obsnintyplus\n",
    "from `risk_credit_mis.loan_bucket_flow_report_core` t2\n",
    "inner join `risk_credit_mis.loan_master_table` t1 on t2.loanAccountNumber = t1.loanAccountNumber\n",
    "WHERE t1.flagDisbursement = 1\n",
    "and t1.new_loan_type in ('Quick','Flex','SIL-Instore')\n",
    "and t2.loanStatus in ('In Arrears','Normal')\n",
    "and t2.bucketDate in ('2024-06-30')\n",
    "group by 1\n",
    ")\n",
    "select \n",
    "new_loan_type,\n",
    "round(sum(thirtyplus)/sum(obsthirtyplus)*100, 3) thirtyplus,\n",
    "round(sum(sixtyplus)/sum(obsthirtyplus)*100, 3) sixtyplus,\n",
    "round(sum(nintyplus)/sum(obsnintyplus)*100, 3) nintyplus,\n",
    "from b\n",
    "group by 1\n",
    "order by 1\n",
    ";\"\"\"\n",
    "\n",
    "secondpartjune24 = client.query(sq).to_dataframe(progress_bar_type='tqdm')\n",
    "secondpartjune24"
   ]
  },
  {
   "cell_type": "markdown",
   "metadata": {},
   "source": [
    "# 30+, 60+, 90+ for June 2024 (without Product)"
   ]
  },
  {
   "cell_type": "code",
   "execution_count": 8,
   "metadata": {},
   "outputs": [
    {
     "name": "stdout",
     "output_type": "stream",
     "text": [
      "Job ID 5e291335-7dc1-45a8-abc7-766ccc3aa06f successfully executed: 100%|\u001b[32m██████████\u001b[0m|\n",
      "Downloading: 100%|\u001b[32m██████████\u001b[0m|\n"
     ]
    },
    {
     "data": {
      "text/html": [
       "<div>\n",
       "<style scoped>\n",
       "    .dataframe tbody tr th:only-of-type {\n",
       "        vertical-align: middle;\n",
       "    }\n",
       "\n",
       "    .dataframe tbody tr th {\n",
       "        vertical-align: top;\n",
       "    }\n",
       "\n",
       "    .dataframe thead th {\n",
       "        text-align: right;\n",
       "    }\n",
       "</style>\n",
       "<table border=\"1\" class=\"dataframe\">\n",
       "  <thead>\n",
       "    <tr style=\"text-align: right;\">\n",
       "      <th></th>\n",
       "      <th>thirtyplus</th>\n",
       "      <th>sixtyplus</th>\n",
       "      <th>nintyplus</th>\n",
       "    </tr>\n",
       "  </thead>\n",
       "  <tbody>\n",
       "    <tr>\n",
       "      <th>0</th>\n",
       "      <td>29.413</td>\n",
       "      <td>23.738</td>\n",
       "      <td>27.542</td>\n",
       "    </tr>\n",
       "  </tbody>\n",
       "</table>\n",
       "</div>"
      ],
      "text/plain": [
       "   thirtyplus  sixtyplus  nintyplus\n",
       "0      29.413     23.738     27.542"
      ]
     },
     "execution_count": 8,
     "metadata": {},
     "output_type": "execute_result"
    }
   ],
   "source": [
    "sq = \"\"\"with b as\n",
    "(select \n",
    "count(distinct t2.loanAccountNumber) cnt_loan\n",
    ", count(distinct case when t2.Max_current_DPD >=30 then t2.loanAccountNumber end) thirtyplus\n",
    ", count(distinct case when date_diff(date(t2.bucketDate), date(t2.firstduedate), day) >=30 then t2.loanAccountNumber end) obsthirtyplus\n",
    ", count(distinct case when t2.Max_current_DPD >=60 then t2.loanAccountNumber end) sixtyplus\n",
    ", count(distinct case when date_diff(date(t2.bucketDate), date(t2.firstduedate), day) >=60 then t2.loanAccountNumber end) obssixtyplus\n",
    ", count(distinct case when t2.Max_current_DPD >=90 then t2.loanAccountNumber end) nintyplus\n",
    ", count(distinct case when date_diff(date(t2.bucketDate), date(t2.firstduedate), day) >= 90 then t2.loanAccountNumber end) obsnintyplus\n",
    "from `risk_credit_mis.loan_bucket_flow_report_core` t2\n",
    "inner join `risk_credit_mis.loan_master_table` t1 on t2.loanAccountNumber = t1.loanAccountNumber\n",
    "WHERE t1.flagDisbursement = 1\n",
    "and t1.new_loan_type in ('Quick','Flex','SIL-Instore')\n",
    "and t2.loanStatus in ('In Arrears','Normal')\n",
    "and t2.bucketDate in ('2024-06-30')\n",
    ")\n",
    "select \n",
    "round(sum(thirtyplus)/sum(obsthirtyplus)*100, 3) thirtyplus,\n",
    "round(sum(sixtyplus)/sum(obsthirtyplus)*100, 3) sixtyplus,\n",
    "round(sum(nintyplus)/sum(obsnintyplus)*100, 3) nintyplus,\n",
    "from b\n",
    "order by 1\n",
    ";\"\"\"\n",
    "\n",
    "thirdpartjune24 = client.query(sq).to_dataframe(progress_bar_type='tqdm')\n",
    "thirdpartjune24"
   ]
  },
  {
   "cell_type": "code",
   "execution_count": 9,
   "metadata": {},
   "outputs": [
    {
     "data": {
      "text/html": [
       "<div>\n",
       "<style scoped>\n",
       "    .dataframe tbody tr th:only-of-type {\n",
       "        vertical-align: middle;\n",
       "    }\n",
       "\n",
       "    .dataframe tbody tr th {\n",
       "        vertical-align: top;\n",
       "    }\n",
       "\n",
       "    .dataframe thead th {\n",
       "        text-align: right;\n",
       "    }\n",
       "</style>\n",
       "<table border=\"1\" class=\"dataframe\">\n",
       "  <thead>\n",
       "    <tr style=\"text-align: right;\">\n",
       "      <th></th>\n",
       "      <th>new_loan_type</th>\n",
       "      <th>percentage_of_FPD30</th>\n",
       "      <th>thirtyplus</th>\n",
       "      <th>sixtyplus</th>\n",
       "      <th>nintyplus</th>\n",
       "    </tr>\n",
       "  </thead>\n",
       "  <tbody>\n",
       "    <tr>\n",
       "      <th>0</th>\n",
       "      <td>SIL-Instore</td>\n",
       "      <td>6.831</td>\n",
       "      <td>22.938</td>\n",
       "      <td>17.128</td>\n",
       "      <td>19.962</td>\n",
       "    </tr>\n",
       "    <tr>\n",
       "      <th>1</th>\n",
       "      <td>Quick</td>\n",
       "      <td>10.838</td>\n",
       "      <td>56.998</td>\n",
       "      <td>51.518</td>\n",
       "      <td>53.406</td>\n",
       "    </tr>\n",
       "    <tr>\n",
       "      <th>2</th>\n",
       "      <td>Flex</td>\n",
       "      <td>1.345</td>\n",
       "      <td>37.320</td>\n",
       "      <td>33.141</td>\n",
       "      <td>28.770</td>\n",
       "    </tr>\n",
       "  </tbody>\n",
       "</table>\n",
       "</div>"
      ],
      "text/plain": [
       "  new_loan_type  percentage_of_FPD30  thirtyplus  sixtyplus  nintyplus\n",
       "0   SIL-Instore                6.831      22.938     17.128     19.962\n",
       "1         Quick               10.838      56.998     51.518     53.406\n",
       "2          Flex                1.345      37.320     33.141     28.770"
      ]
     },
     "execution_count": 9,
     "metadata": {},
     "output_type": "execute_result"
    }
   ],
   "source": [
    "dfjune24 = june24fpd30.merge(secondpartjune24, on='new_loan_type', how='left')\n",
    "dfjune24"
   ]
  },
  {
   "cell_type": "code",
   "execution_count": 10,
   "metadata": {},
   "outputs": [
    {
     "data": {
      "text/html": [
       "<div>\n",
       "<style scoped>\n",
       "    .dataframe tbody tr th:only-of-type {\n",
       "        vertical-align: middle;\n",
       "    }\n",
       "\n",
       "    .dataframe tbody tr th {\n",
       "        vertical-align: top;\n",
       "    }\n",
       "\n",
       "    .dataframe thead th {\n",
       "        text-align: right;\n",
       "    }\n",
       "</style>\n",
       "<table border=\"1\" class=\"dataframe\">\n",
       "  <thead>\n",
       "    <tr style=\"text-align: right;\">\n",
       "      <th></th>\n",
       "      <th>new_loan_type</th>\n",
       "      <th>percentage_of_FPD30</th>\n",
       "      <th>thirtyplus</th>\n",
       "      <th>sixtyplus</th>\n",
       "      <th>nintyplus</th>\n",
       "    </tr>\n",
       "  </thead>\n",
       "  <tbody>\n",
       "    <tr>\n",
       "      <th>0</th>\n",
       "      <td>SIL-Instore</td>\n",
       "      <td>6.831</td>\n",
       "      <td>22.938</td>\n",
       "      <td>17.128</td>\n",
       "      <td>19.962</td>\n",
       "    </tr>\n",
       "    <tr>\n",
       "      <th>1</th>\n",
       "      <td>Quick</td>\n",
       "      <td>10.838</td>\n",
       "      <td>56.998</td>\n",
       "      <td>51.518</td>\n",
       "      <td>53.406</td>\n",
       "    </tr>\n",
       "    <tr>\n",
       "      <th>2</th>\n",
       "      <td>Flex</td>\n",
       "      <td>1.345</td>\n",
       "      <td>37.320</td>\n",
       "      <td>33.141</td>\n",
       "      <td>28.770</td>\n",
       "    </tr>\n",
       "    <tr>\n",
       "      <th>3</th>\n",
       "      <td>NaN</td>\n",
       "      <td>NaN</td>\n",
       "      <td>29.413</td>\n",
       "      <td>23.738</td>\n",
       "      <td>27.542</td>\n",
       "    </tr>\n",
       "  </tbody>\n",
       "</table>\n",
       "</div>"
      ],
      "text/plain": [
       "  new_loan_type  percentage_of_FPD30  thirtyplus  sixtyplus  nintyplus\n",
       "0   SIL-Instore                6.831      22.938     17.128     19.962\n",
       "1         Quick               10.838      56.998     51.518     53.406\n",
       "2          Flex                1.345      37.320     33.141     28.770\n",
       "3           NaN                  NaN      29.413     23.738     27.542"
      ]
     },
     "execution_count": 10,
     "metadata": {},
     "output_type": "execute_result"
    }
   ],
   "source": [
    "resultjune24 = pd.concat([dfjune24, thirdpartjune24], ignore_index=True)\n",
    "resultjune24"
   ]
  },
  {
   "cell_type": "code",
   "execution_count": 11,
   "metadata": {},
   "outputs": [
    {
     "data": {
      "text/html": [
       "<div>\n",
       "<style scoped>\n",
       "    .dataframe tbody tr th:only-of-type {\n",
       "        vertical-align: middle;\n",
       "    }\n",
       "\n",
       "    .dataframe tbody tr th {\n",
       "        vertical-align: top;\n",
       "    }\n",
       "\n",
       "    .dataframe thead th {\n",
       "        text-align: right;\n",
       "    }\n",
       "</style>\n",
       "<table border=\"1\" class=\"dataframe\">\n",
       "  <thead>\n",
       "    <tr style=\"text-align: right;\">\n",
       "      <th></th>\n",
       "      <th>new_loan_type</th>\n",
       "      <th>percentage_of_FPD30</th>\n",
       "      <th>thirtyplus</th>\n",
       "      <th>sixtyplus</th>\n",
       "      <th>nintyplus</th>\n",
       "    </tr>\n",
       "  </thead>\n",
       "  <tbody>\n",
       "    <tr>\n",
       "      <th>0</th>\n",
       "      <td>SIL-Instore</td>\n",
       "      <td>6.831</td>\n",
       "      <td>22.938</td>\n",
       "      <td>17.128</td>\n",
       "      <td>19.962</td>\n",
       "    </tr>\n",
       "    <tr>\n",
       "      <th>1</th>\n",
       "      <td>Quick</td>\n",
       "      <td>10.838</td>\n",
       "      <td>56.998</td>\n",
       "      <td>51.518</td>\n",
       "      <td>53.406</td>\n",
       "    </tr>\n",
       "    <tr>\n",
       "      <th>2</th>\n",
       "      <td>Flex</td>\n",
       "      <td>1.345</td>\n",
       "      <td>37.320</td>\n",
       "      <td>33.141</td>\n",
       "      <td>28.770</td>\n",
       "    </tr>\n",
       "    <tr>\n",
       "      <th>3</th>\n",
       "      <td>Portfolio</td>\n",
       "      <td>NaN</td>\n",
       "      <td>29.413</td>\n",
       "      <td>23.738</td>\n",
       "      <td>27.542</td>\n",
       "    </tr>\n",
       "  </tbody>\n",
       "</table>\n",
       "</div>"
      ],
      "text/plain": [
       "  new_loan_type  percentage_of_FPD30  thirtyplus  sixtyplus  nintyplus\n",
       "0   SIL-Instore                6.831      22.938     17.128     19.962\n",
       "1         Quick               10.838      56.998     51.518     53.406\n",
       "2          Flex                1.345      37.320     33.141     28.770\n",
       "3     Portfolio                  NaN      29.413     23.738     27.542"
      ]
     },
     "execution_count": 11,
     "metadata": {},
     "output_type": "execute_result"
    }
   ],
   "source": [
    "resultjune24['new_loan_type'] = resultjune24['new_loan_type'].fillna(\"Portfolio\")\n",
    "resultjune24"
   ]
  },
  {
   "cell_type": "code",
   "execution_count": 9,
   "metadata": {},
   "outputs": [],
   "source": [
    "import pandas as pd\n",
    "from openpyxl import load_workbook\n"
   ]
  },
  {
   "cell_type": "code",
   "execution_count": 12,
   "metadata": {},
   "outputs": [],
   "source": [
    "# Load the existing Excel file\n",
    "existing_excel_file = r'C:\\Users\\DwaipayanChakroborti\\OneDrive - Tonik Financial Pte Ltd\\MyStuff\\Collection\\Jennifer Zaldivar\\KRI_New_Report\\Data\\202406011_KRI_Report_New.xlsx'\n",
    "xls = pd.ExcelFile(existing_excel_file)\n",
    "\n",
    "# Read each existing sheet into separate dataframes\n",
    "df_january = pd.read_excel(xls, sheet_name='January2024')\n",
    "df_february = pd.read_excel(xls, sheet_name='February2024')\n",
    "df_march = pd.read_excel(xls, sheet_name='March2024')\n",
    "df_april = pd.read_excel(xls, sheet_name='April2024')\n",
    "df_may = pd.read_excel(xls, sheet_name='May2024')\n",
    "\n",
    "\n",
    "# Create a Pandas Excel writer using XlsxWriter as the engine\n",
    "writer = pd.ExcelWriter(r'C:\\Users\\DwaipayanChakroborti\\OneDrive - Tonik Financial Pte Ltd\\MyStuff\\Collection\\Jennifer Zaldivar\\KRI_New_Report\\Data\\20240712_KRI_Report_New.xlsx', engine='xlsxwriter')\n",
    "\n",
    "# Write each dataframe to a separate worksheet\n",
    "df_january.to_excel(writer, sheet_name='January2024')\n",
    "df_february.to_excel(writer, sheet_name='February2024')\n",
    "df_march.to_excel(writer, sheet_name='March2024')\n",
    "df_april.to_excel(writer, sheet_name='April2024')\n",
    "df_may.to_excel(writer, sheet_name='May2024')\n",
    "resultjune24.to_excel(writer, sheet_name='June2024')\n",
    "\n",
    "# Close the Pandas Excel writer and output the Excel file\n",
    "writer.close()\n"
   ]
  },
  {
   "cell_type": "code",
   "execution_count": null,
   "metadata": {},
   "outputs": [],
   "source": []
  }
 ],
 "metadata": {
  "kernelspec": {
   "display_name": "Python 3",
   "language": "python",
   "name": "python3"
  },
  "language_info": {
   "codemirror_mode": {
    "name": "ipython",
    "version": 3
   },
   "file_extension": ".py",
   "mimetype": "text/x-python",
   "name": "python",
   "nbconvert_exporter": "python",
   "pygments_lexer": "ipython3",
   "version": "3.9.19"
  }
 },
 "nbformat": 4,
 "nbformat_minor": 2
}
