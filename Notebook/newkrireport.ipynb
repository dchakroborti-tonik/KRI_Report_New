{
 "cells": [
  {
   "cell_type": "markdown",
   "metadata": {},
   "source": [
    "# <div align=\"center\" style=\"color: #ff5733;\">KRI Report New Format</div>"
   ]
  },
  {
   "cell_type": "markdown",
   "metadata": {},
   "source": [
    "## *Requestor is Jennyfer*"
   ]
  },
  {
   "cell_type": "code",
   "execution_count": 1,
   "metadata": {},
   "outputs": [],
   "source": [
    "# %% [markdown]\n",
    "# # Jupyter Notebook Loading Header\n",
    "#\n",
    "# This is a custom loading header for Jupyter Notebooks in Visual Studio Code.\n",
    "# It includes common imports and settings to get you started quickly.\n",
    "\n",
    "# %% [markdown]\n",
    "## Import Libraries\n",
    "import pandas as pd\n",
    "import numpy as np\n",
    "import matplotlib.pyplot as plt\n",
    "import seaborn as sns\n",
    "from google.cloud import bigquery\n",
    "import os\n",
    "path = r'C:\\Users\\DwaipayanChakroborti\\AppData\\Roaming\\gcloud\\legacy_credentials\\dchakroborti@tonikbank.com\\adc.json'\n",
    "os.environ['GOOGLE_APPLICATION_CREDENTIALS'] = path\n",
    "client = bigquery.Client(project='prj-prod-dataplatform')\n",
    "\n",
    "# %% [markdown]\n",
    "## Configure Settings\n",
    "# Set options or configurations as needed\n",
    "# Example: pd.set_option('display.max_columns', None)"
   ]
  },
  {
   "cell_type": "markdown",
   "metadata": {},
   "source": [
    "# FPD30 January 2024 Month End"
   ]
  },
  {
   "cell_type": "code",
   "execution_count": 2,
   "metadata": {},
   "outputs": [
    {
     "name": "stdout",
     "output_type": "stream",
     "text": [
      "Job ID 939f45fd-88a1-4596-b97e-1a1fa2f95bbd successfully executed: 100%|\u001b[32m██████████\u001b[0m|\n",
      "Downloading: 100%|\u001b[32m██████████\u001b[0m|\n"
     ]
    },
    {
     "data": {
      "text/html": [
       "<div>\n",
       "<style scoped>\n",
       "    .dataframe tbody tr th:only-of-type {\n",
       "        vertical-align: middle;\n",
       "    }\n",
       "\n",
       "    .dataframe tbody tr th {\n",
       "        vertical-align: top;\n",
       "    }\n",
       "\n",
       "    .dataframe thead th {\n",
       "        text-align: right;\n",
       "    }\n",
       "</style>\n",
       "<table border=\"1\" class=\"dataframe\">\n",
       "  <thead>\n",
       "    <tr style=\"text-align: right;\">\n",
       "      <th></th>\n",
       "      <th>new_loan_type</th>\n",
       "      <th>percentage_of_FPD30</th>\n",
       "    </tr>\n",
       "  </thead>\n",
       "  <tbody>\n",
       "    <tr>\n",
       "      <th>0</th>\n",
       "      <td>Quick</td>\n",
       "      <td>14.770</td>\n",
       "    </tr>\n",
       "    <tr>\n",
       "      <th>1</th>\n",
       "      <td>SIL-Instore</td>\n",
       "      <td>5.875</td>\n",
       "    </tr>\n",
       "    <tr>\n",
       "      <th>2</th>\n",
       "      <td>Flex</td>\n",
       "      <td>3.114</td>\n",
       "    </tr>\n",
       "  </tbody>\n",
       "</table>\n",
       "</div>"
      ],
      "text/plain": [
       "  new_loan_type  percentage_of_FPD30\n",
       "0         Quick               14.770\n",
       "1   SIL-Instore                5.875\n",
       "2          Flex                3.114"
      ]
     },
     "execution_count": 2,
     "metadata": {},
     "output_type": "execute_result"
    }
   ],
   "source": [
    "sq = \"\"\"SELECT t1.new_loan_type,\n",
    "ROUND(SUM(CASE when t1.defFPD30 = 1 then 1 ELSE 0 end )/sum(t1.obsFPD30)*100,3) as percentage_of_FPD30\n",
    "from `prj-prod-dataplatform.risk_credit_mis.loan_master_table` t1\n",
    "inner JOIN prj-prod-dataplatform.risk_credit_mis.loan_bucket_flow_report_core t2\n",
    "ON\n",
    "t1.loanAccountNumber = t2.loanAccountNumber\n",
    "WHERE t1.flagDisbursement = 1\n",
    "and t1.new_loan_type in ('Quick','Flex','SIL-Instore')\n",
    "and t2.loanStatus in ('In Arrears','Normal')\n",
    "and t2.bucketDate in ('2024-01-31')\n",
    "GROUP BY 1;\"\"\"\n",
    "\n",
    "janfpd30 = client.query(sq).to_dataframe(progress_bar_type='tqdm')\n",
    "janfpd30"
   ]
  },
  {
   "cell_type": "markdown",
   "metadata": {},
   "source": [
    "# FPD30 February 2024 Month End"
   ]
  },
  {
   "cell_type": "code",
   "execution_count": 3,
   "metadata": {},
   "outputs": [
    {
     "name": "stdout",
     "output_type": "stream",
     "text": [
      "Job ID e1cb77ad-97fe-4503-a2eb-e594e31f4026 successfully executed: 100%|\u001b[32m██████████\u001b[0m|\n",
      "Downloading: 100%|\u001b[32m██████████\u001b[0m|\n"
     ]
    },
    {
     "data": {
      "text/html": [
       "<div>\n",
       "<style scoped>\n",
       "    .dataframe tbody tr th:only-of-type {\n",
       "        vertical-align: middle;\n",
       "    }\n",
       "\n",
       "    .dataframe tbody tr th {\n",
       "        vertical-align: top;\n",
       "    }\n",
       "\n",
       "    .dataframe thead th {\n",
       "        text-align: right;\n",
       "    }\n",
       "</style>\n",
       "<table border=\"1\" class=\"dataframe\">\n",
       "  <thead>\n",
       "    <tr style=\"text-align: right;\">\n",
       "      <th></th>\n",
       "      <th>new_loan_type</th>\n",
       "      <th>percentage_of_FPD30</th>\n",
       "    </tr>\n",
       "  </thead>\n",
       "  <tbody>\n",
       "    <tr>\n",
       "      <th>0</th>\n",
       "      <td>Quick</td>\n",
       "      <td>13.294</td>\n",
       "    </tr>\n",
       "    <tr>\n",
       "      <th>1</th>\n",
       "      <td>SIL-Instore</td>\n",
       "      <td>5.828</td>\n",
       "    </tr>\n",
       "    <tr>\n",
       "      <th>2</th>\n",
       "      <td>Flex</td>\n",
       "      <td>2.627</td>\n",
       "    </tr>\n",
       "  </tbody>\n",
       "</table>\n",
       "</div>"
      ],
      "text/plain": [
       "  new_loan_type  percentage_of_FPD30\n",
       "0         Quick               13.294\n",
       "1   SIL-Instore                5.828\n",
       "2          Flex                2.627"
      ]
     },
     "execution_count": 3,
     "metadata": {},
     "output_type": "execute_result"
    }
   ],
   "source": [
    "sq = \"\"\"SELECT t1.new_loan_type,\n",
    "ROUND(SUM(CASE when t1.defFPD30 = 1 then 1 ELSE 0 end )/sum(t1.obsFPD30)*100,3) as percentage_of_FPD30\n",
    "from `prj-prod-dataplatform.risk_credit_mis.loan_master_table` t1\n",
    "inner JOIN prj-prod-dataplatform.risk_credit_mis.loan_bucket_flow_report_core t2\n",
    "ON\n",
    "t1.loanAccountNumber = t2.loanAccountNumber\n",
    "WHERE t1.flagDisbursement = 1\n",
    "and t1.new_loan_type in ('Quick','Flex','SIL-Instore')\n",
    "and t2.loanStatus in ('In Arrears','Normal')\n",
    "and t2.bucketDate in ('2024-02-29')\n",
    "GROUP BY 1;\"\"\"\n",
    "\n",
    "febfpd30 = client.query(sq).to_dataframe(progress_bar_type='tqdm')\n",
    "febfpd30"
   ]
  },
  {
   "cell_type": "markdown",
   "metadata": {},
   "source": [
    "# FPD30 March 2024 Month End"
   ]
  },
  {
   "cell_type": "code",
   "execution_count": 4,
   "metadata": {},
   "outputs": [
    {
     "name": "stdout",
     "output_type": "stream",
     "text": [
      "Job ID ade2f43d-ee17-4afa-9e47-1895adc059e5 successfully executed: 100%|\u001b[32m██████████\u001b[0m|\n",
      "Downloading: 100%|\u001b[32m██████████\u001b[0m|\n"
     ]
    },
    {
     "data": {
      "text/html": [
       "<div>\n",
       "<style scoped>\n",
       "    .dataframe tbody tr th:only-of-type {\n",
       "        vertical-align: middle;\n",
       "    }\n",
       "\n",
       "    .dataframe tbody tr th {\n",
       "        vertical-align: top;\n",
       "    }\n",
       "\n",
       "    .dataframe thead th {\n",
       "        text-align: right;\n",
       "    }\n",
       "</style>\n",
       "<table border=\"1\" class=\"dataframe\">\n",
       "  <thead>\n",
       "    <tr style=\"text-align: right;\">\n",
       "      <th></th>\n",
       "      <th>new_loan_type</th>\n",
       "      <th>percentage_of_FPD30</th>\n",
       "    </tr>\n",
       "  </thead>\n",
       "  <tbody>\n",
       "    <tr>\n",
       "      <th>0</th>\n",
       "      <td>Quick</td>\n",
       "      <td>14.429</td>\n",
       "    </tr>\n",
       "    <tr>\n",
       "      <th>1</th>\n",
       "      <td>SIL-Instore</td>\n",
       "      <td>6.240</td>\n",
       "    </tr>\n",
       "    <tr>\n",
       "      <th>2</th>\n",
       "      <td>Flex</td>\n",
       "      <td>2.700</td>\n",
       "    </tr>\n",
       "  </tbody>\n",
       "</table>\n",
       "</div>"
      ],
      "text/plain": [
       "  new_loan_type  percentage_of_FPD30\n",
       "0         Quick               14.429\n",
       "1   SIL-Instore                6.240\n",
       "2          Flex                2.700"
      ]
     },
     "execution_count": 4,
     "metadata": {},
     "output_type": "execute_result"
    }
   ],
   "source": [
    "sq = \"\"\"SELECT t1.new_loan_type,\n",
    "ROUND(SUM(CASE when t1.defFPD30 = 1 then 1 ELSE 0 end )/sum(t1.obsFPD30)*100,3) as percentage_of_FPD30\n",
    "from `prj-prod-dataplatform.risk_credit_mis.loan_master_table` t1\n",
    "inner JOIN prj-prod-dataplatform.risk_credit_mis.loan_bucket_flow_report_core t2\n",
    "ON\n",
    "t1.loanAccountNumber = t2.loanAccountNumber\n",
    "WHERE t1.flagDisbursement = 1\n",
    "and t1.new_loan_type in ('Quick','Flex','SIL-Instore')\n",
    "and t2.loanStatus in ('In Arrears','Normal')\n",
    "and t2.bucketDate in ('2024-03-31')\n",
    "GROUP BY 1;\"\"\"\n",
    "\n",
    "marchfpd30 = client.query(sq).to_dataframe(progress_bar_type='tqdm')\n",
    "marchfpd30"
   ]
  },
  {
   "cell_type": "markdown",
   "metadata": {},
   "source": [
    "# 30+, 60+, 90+ for January 2024"
   ]
  },
  {
   "cell_type": "code",
   "execution_count": 5,
   "metadata": {},
   "outputs": [
    {
     "name": "stdout",
     "output_type": "stream",
     "text": [
      "Job ID 42e4b28b-65ad-48fb-83e0-d302f8ff9abe successfully executed: 100%|\u001b[32m██████████\u001b[0m|\n",
      "Downloading: 100%|\u001b[32m██████████\u001b[0m|\n"
     ]
    },
    {
     "data": {
      "text/html": [
       "<div>\n",
       "<style scoped>\n",
       "    .dataframe tbody tr th:only-of-type {\n",
       "        vertical-align: middle;\n",
       "    }\n",
       "\n",
       "    .dataframe tbody tr th {\n",
       "        vertical-align: top;\n",
       "    }\n",
       "\n",
       "    .dataframe thead th {\n",
       "        text-align: right;\n",
       "    }\n",
       "</style>\n",
       "<table border=\"1\" class=\"dataframe\">\n",
       "  <thead>\n",
       "    <tr style=\"text-align: right;\">\n",
       "      <th></th>\n",
       "      <th>new_loan_type</th>\n",
       "      <th>thirtyplus</th>\n",
       "      <th>sixtyplus</th>\n",
       "      <th>nintyplus</th>\n",
       "    </tr>\n",
       "  </thead>\n",
       "  <tbody>\n",
       "    <tr>\n",
       "      <th>0</th>\n",
       "      <td>Flex</td>\n",
       "      <td>31.579</td>\n",
       "      <td>27.463</td>\n",
       "      <td>24.748</td>\n",
       "    </tr>\n",
       "    <tr>\n",
       "      <th>1</th>\n",
       "      <td>Quick</td>\n",
       "      <td>52.124</td>\n",
       "      <td>47.184</td>\n",
       "      <td>46.150</td>\n",
       "    </tr>\n",
       "    <tr>\n",
       "      <th>2</th>\n",
       "      <td>SIL-Instore</td>\n",
       "      <td>16.230</td>\n",
       "      <td>12.602</td>\n",
       "      <td>18.935</td>\n",
       "    </tr>\n",
       "  </tbody>\n",
       "</table>\n",
       "</div>"
      ],
      "text/plain": [
       "  new_loan_type  thirtyplus  sixtyplus  nintyplus\n",
       "0          Flex      31.579     27.463     24.748\n",
       "1         Quick      52.124     47.184     46.150\n",
       "2   SIL-Instore      16.230     12.602     18.935"
      ]
     },
     "execution_count": 5,
     "metadata": {},
     "output_type": "execute_result"
    }
   ],
   "source": [
    "sq = \"\"\"with b as\n",
    "(select t1.new_loan_type \n",
    ", count(distinct t2.loanAccountNumber) cnt_loan\n",
    ", count(distinct case when t2.Max_current_DPD >=30 then t2.loanAccountNumber end) thirtyplus\n",
    ", count(distinct case when date_diff(date(t2.bucketDate), date(t2.firstduedate), day) >=30 then t2.loanAccountNumber end) obsthirtyplus\n",
    ", count(distinct case when t2.Max_current_DPD >=60 then t2.loanAccountNumber end) sixtyplus\n",
    ", count(distinct case when date_diff(date(t2.bucketDate), date(t2.firstduedate), day) >=60 then t2.loanAccountNumber end) obssixtyplus\n",
    ", count(distinct case when t2.Max_current_DPD >=90 then t2.loanAccountNumber end) nintyplus\n",
    ", count(distinct case when date_diff(date(t2.bucketDate), date(t2.firstduedate), day) >= 90 then t2.loanAccountNumber end) obsnintyplus\n",
    "from `risk_credit_mis.loan_bucket_flow_report_core` t2\n",
    "inner join `risk_credit_mis.loan_master_table` t1 on t2.loanAccountNumber = t1.loanAccountNumber\n",
    "WHERE t1.flagDisbursement = 1\n",
    "and t1.new_loan_type in ('Quick','Flex','SIL-Instore')\n",
    "and t2.loanStatus in ('In Arrears','Normal')\n",
    "and t2.bucketDate in ('2024-01-31')\n",
    "group by 1\n",
    ")\n",
    "select \n",
    "new_loan_type,\n",
    "round(sum(thirtyplus)/sum(obsthirtyplus)*100, 3) thirtyplus,\n",
    "round(sum(sixtyplus)/sum(obsthirtyplus)*100, 3) sixtyplus,\n",
    "round(sum(nintyplus)/sum(obsnintyplus)*100, 3) nintyplus,\n",
    "from b\n",
    "group by 1\n",
    "order by 1\n",
    ";\"\"\"\n",
    "\n",
    "secondpartjan24 = client.query(sq).to_dataframe(progress_bar_type='tqdm')\n",
    "secondpartjan24"
   ]
  },
  {
   "cell_type": "markdown",
   "metadata": {},
   "source": [
    "# 30+, 60+, 90+ for February 2024"
   ]
  },
  {
   "cell_type": "code",
   "execution_count": 6,
   "metadata": {},
   "outputs": [
    {
     "name": "stdout",
     "output_type": "stream",
     "text": [
      "Job ID 6d67378b-f1cb-4c8f-aafb-1bf08bd7cf5e successfully executed: 100%|\u001b[32m██████████\u001b[0m|\n",
      "Downloading: 100%|\u001b[32m██████████\u001b[0m|\n"
     ]
    },
    {
     "data": {
      "text/html": [
       "<div>\n",
       "<style scoped>\n",
       "    .dataframe tbody tr th:only-of-type {\n",
       "        vertical-align: middle;\n",
       "    }\n",
       "\n",
       "    .dataframe tbody tr th {\n",
       "        vertical-align: top;\n",
       "    }\n",
       "\n",
       "    .dataframe thead th {\n",
       "        text-align: right;\n",
       "    }\n",
       "</style>\n",
       "<table border=\"1\" class=\"dataframe\">\n",
       "  <thead>\n",
       "    <tr style=\"text-align: right;\">\n",
       "      <th></th>\n",
       "      <th>new_loan_type</th>\n",
       "      <th>thirtyplus</th>\n",
       "      <th>sixtyplus</th>\n",
       "      <th>nintyplus</th>\n",
       "    </tr>\n",
       "  </thead>\n",
       "  <tbody>\n",
       "    <tr>\n",
       "      <th>0</th>\n",
       "      <td>Flex</td>\n",
       "      <td>29.625</td>\n",
       "      <td>26.069</td>\n",
       "      <td>23.126</td>\n",
       "    </tr>\n",
       "    <tr>\n",
       "      <th>1</th>\n",
       "      <td>Quick</td>\n",
       "      <td>51.675</td>\n",
       "      <td>46.800</td>\n",
       "      <td>43.976</td>\n",
       "    </tr>\n",
       "    <tr>\n",
       "      <th>2</th>\n",
       "      <td>SIL-Instore</td>\n",
       "      <td>14.710</td>\n",
       "      <td>10.279</td>\n",
       "      <td>16.796</td>\n",
       "    </tr>\n",
       "  </tbody>\n",
       "</table>\n",
       "</div>"
      ],
      "text/plain": [
       "  new_loan_type  thirtyplus  sixtyplus  nintyplus\n",
       "0          Flex      29.625     26.069     23.126\n",
       "1         Quick      51.675     46.800     43.976\n",
       "2   SIL-Instore      14.710     10.279     16.796"
      ]
     },
     "execution_count": 6,
     "metadata": {},
     "output_type": "execute_result"
    }
   ],
   "source": [
    "sq = \"\"\"with b as\n",
    "(select t1.new_loan_type \n",
    ", count(distinct t2.loanAccountNumber) cnt_loan\n",
    ", count(distinct case when t2.Max_current_DPD >=30 then t2.loanAccountNumber end) thirtyplus\n",
    ", count(distinct case when date_diff(date(t2.bucketDate), date(t2.firstduedate), day) >=30 then t2.loanAccountNumber end) obsthirtyplus\n",
    ", count(distinct case when t2.Max_current_DPD >=60 then t2.loanAccountNumber end) sixtyplus\n",
    ", count(distinct case when date_diff(date(t2.bucketDate), date(t2.firstduedate), day) >=60 then t2.loanAccountNumber end) obssixtyplus\n",
    ", count(distinct case when t2.Max_current_DPD >=90 then t2.loanAccountNumber end) nintyplus\n",
    ", count(distinct case when date_diff(date(t2.bucketDate), date(t2.firstduedate), day) >= 90 then t2.loanAccountNumber end) obsnintyplus\n",
    "from `risk_credit_mis.loan_bucket_flow_report_core` t2\n",
    "inner join `risk_credit_mis.loan_master_table` t1 on t2.loanAccountNumber = t1.loanAccountNumber\n",
    "WHERE t1.flagDisbursement = 1\n",
    "and t1.new_loan_type in ('Quick','Flex','SIL-Instore')\n",
    "and t2.loanStatus in ('In Arrears','Normal')\n",
    "and t2.bucketDate in ('2024-02-29')\n",
    "group by 1\n",
    ")\n",
    "select \n",
    "new_loan_type,\n",
    "round(sum(thirtyplus)/sum(obsthirtyplus)*100, 3) thirtyplus,\n",
    "round(sum(sixtyplus)/sum(obsthirtyplus)*100, 3) sixtyplus,\n",
    "round(sum(nintyplus)/sum(obsnintyplus)*100, 3) nintyplus,\n",
    "from b\n",
    "group by 1\n",
    "order by 1\n",
    ";\"\"\"\n",
    "\n",
    "secondpartfeb24 = client.query(sq).to_dataframe(progress_bar_type='tqdm')\n",
    "secondpartfeb24"
   ]
  },
  {
   "cell_type": "code",
   "execution_count": null,
   "metadata": {},
   "outputs": [],
   "source": []
  },
  {
   "cell_type": "markdown",
   "metadata": {},
   "source": [
    "# 30+, 60+, 90+ for March 2024"
   ]
  },
  {
   "cell_type": "code",
   "execution_count": 7,
   "metadata": {},
   "outputs": [
    {
     "name": "stdout",
     "output_type": "stream",
     "text": [
      "Job ID d58a10dc-6999-46ea-8c4b-376e79b13a1a successfully executed: 100%|\u001b[32m██████████\u001b[0m|\n",
      "Downloading: 100%|\u001b[32m██████████\u001b[0m|\n"
     ]
    },
    {
     "data": {
      "text/html": [
       "<div>\n",
       "<style scoped>\n",
       "    .dataframe tbody tr th:only-of-type {\n",
       "        vertical-align: middle;\n",
       "    }\n",
       "\n",
       "    .dataframe tbody tr th {\n",
       "        vertical-align: top;\n",
       "    }\n",
       "\n",
       "    .dataframe thead th {\n",
       "        text-align: right;\n",
       "    }\n",
       "</style>\n",
       "<table border=\"1\" class=\"dataframe\">\n",
       "  <thead>\n",
       "    <tr style=\"text-align: right;\">\n",
       "      <th></th>\n",
       "      <th>new_loan_type</th>\n",
       "      <th>thirtyplus</th>\n",
       "      <th>sixtyplus</th>\n",
       "      <th>nintyplus</th>\n",
       "    </tr>\n",
       "  </thead>\n",
       "  <tbody>\n",
       "    <tr>\n",
       "      <th>0</th>\n",
       "      <td>Flex</td>\n",
       "      <td>33.267</td>\n",
       "      <td>29.034</td>\n",
       "      <td>27.110</td>\n",
       "    </tr>\n",
       "    <tr>\n",
       "      <th>1</th>\n",
       "      <td>Quick</td>\n",
       "      <td>58.553</td>\n",
       "      <td>53.424</td>\n",
       "      <td>51.604</td>\n",
       "    </tr>\n",
       "    <tr>\n",
       "      <th>2</th>\n",
       "      <td>SIL-Instore</td>\n",
       "      <td>16.344</td>\n",
       "      <td>11.561</td>\n",
       "      <td>16.460</td>\n",
       "    </tr>\n",
       "  </tbody>\n",
       "</table>\n",
       "</div>"
      ],
      "text/plain": [
       "  new_loan_type  thirtyplus  sixtyplus  nintyplus\n",
       "0          Flex      33.267     29.034     27.110\n",
       "1         Quick      58.553     53.424     51.604\n",
       "2   SIL-Instore      16.344     11.561     16.460"
      ]
     },
     "execution_count": 7,
     "metadata": {},
     "output_type": "execute_result"
    }
   ],
   "source": [
    "sq = \"\"\"with b as\n",
    "(select t1.new_loan_type \n",
    ", count(distinct t2.loanAccountNumber) cnt_loan\n",
    ", count(distinct case when t2.Max_current_DPD >=30 then t2.loanAccountNumber end) thirtyplus\n",
    ", count(distinct case when date_diff(date(t2.bucketDate), date(t2.firstduedate), day) >=30 then t2.loanAccountNumber end) obsthirtyplus\n",
    ", count(distinct case when t2.Max_current_DPD >=60 then t2.loanAccountNumber end) sixtyplus\n",
    ", count(distinct case when date_diff(date(t2.bucketDate), date(t2.firstduedate), day) >=60 then t2.loanAccountNumber end) obssixtyplus\n",
    ", count(distinct case when t2.Max_current_DPD >=90 then t2.loanAccountNumber end) nintyplus\n",
    ", count(distinct case when date_diff(date(t2.bucketDate), date(t2.firstduedate), day) >= 90 then t2.loanAccountNumber end) obsnintyplus\n",
    "from `risk_credit_mis.loan_bucket_flow_report_core` t2\n",
    "inner join `risk_credit_mis.loan_master_table` t1 on t2.loanAccountNumber = t1.loanAccountNumber\n",
    "WHERE t1.flagDisbursement = 1\n",
    "and t1.new_loan_type in ('Quick','Flex','SIL-Instore')\n",
    "and t2.loanStatus in ('In Arrears','Normal')\n",
    "and t2.bucketDate in ('2024-03-31')\n",
    "group by 1\n",
    ")\n",
    "select \n",
    "new_loan_type,\n",
    "round(sum(thirtyplus)/sum(obsthirtyplus)*100, 3) thirtyplus,\n",
    "round(sum(sixtyplus)/sum(obsthirtyplus)*100, 3) sixtyplus,\n",
    "round(sum(nintyplus)/sum(obsnintyplus)*100, 3) nintyplus,\n",
    "from b\n",
    "group by 1\n",
    "order by 1\n",
    ";\"\"\"\n",
    "\n",
    "secondpartmarch24 = client.query(sq).to_dataframe(progress_bar_type='tqdm')\n",
    "secondpartmarch24"
   ]
  },
  {
   "cell_type": "code",
   "execution_count": 8,
   "metadata": {},
   "outputs": [
    {
     "data": {
      "text/html": [
       "<div>\n",
       "<style scoped>\n",
       "    .dataframe tbody tr th:only-of-type {\n",
       "        vertical-align: middle;\n",
       "    }\n",
       "\n",
       "    .dataframe tbody tr th {\n",
       "        vertical-align: top;\n",
       "    }\n",
       "\n",
       "    .dataframe thead th {\n",
       "        text-align: right;\n",
       "    }\n",
       "</style>\n",
       "<table border=\"1\" class=\"dataframe\">\n",
       "  <thead>\n",
       "    <tr style=\"text-align: right;\">\n",
       "      <th></th>\n",
       "      <th>new_loan_type</th>\n",
       "      <th>percentage_of_FPD30</th>\n",
       "      <th>thirtyplus</th>\n",
       "      <th>sixtyplus</th>\n",
       "      <th>nintyplus</th>\n",
       "    </tr>\n",
       "  </thead>\n",
       "  <tbody>\n",
       "    <tr>\n",
       "      <th>0</th>\n",
       "      <td>Quick</td>\n",
       "      <td>14.770</td>\n",
       "      <td>52.124</td>\n",
       "      <td>47.184</td>\n",
       "      <td>46.150</td>\n",
       "    </tr>\n",
       "    <tr>\n",
       "      <th>1</th>\n",
       "      <td>SIL-Instore</td>\n",
       "      <td>5.875</td>\n",
       "      <td>16.230</td>\n",
       "      <td>12.602</td>\n",
       "      <td>18.935</td>\n",
       "    </tr>\n",
       "    <tr>\n",
       "      <th>2</th>\n",
       "      <td>Flex</td>\n",
       "      <td>3.114</td>\n",
       "      <td>31.579</td>\n",
       "      <td>27.463</td>\n",
       "      <td>24.748</td>\n",
       "    </tr>\n",
       "  </tbody>\n",
       "</table>\n",
       "</div>"
      ],
      "text/plain": [
       "  new_loan_type  percentage_of_FPD30  thirtyplus  sixtyplus  nintyplus\n",
       "0         Quick               14.770      52.124     47.184     46.150\n",
       "1   SIL-Instore                5.875      16.230     12.602     18.935\n",
       "2          Flex                3.114      31.579     27.463     24.748"
      ]
     },
     "execution_count": 8,
     "metadata": {},
     "output_type": "execute_result"
    }
   ],
   "source": [
    "dfjan = janfpd30.merge(secondpartjan24, on='new_loan_type', how='left')\n",
    "dfjan"
   ]
  },
  {
   "cell_type": "code",
   "execution_count": 9,
   "metadata": {},
   "outputs": [
    {
     "data": {
      "text/html": [
       "<div>\n",
       "<style scoped>\n",
       "    .dataframe tbody tr th:only-of-type {\n",
       "        vertical-align: middle;\n",
       "    }\n",
       "\n",
       "    .dataframe tbody tr th {\n",
       "        vertical-align: top;\n",
       "    }\n",
       "\n",
       "    .dataframe thead th {\n",
       "        text-align: right;\n",
       "    }\n",
       "</style>\n",
       "<table border=\"1\" class=\"dataframe\">\n",
       "  <thead>\n",
       "    <tr style=\"text-align: right;\">\n",
       "      <th></th>\n",
       "      <th>new_loan_type</th>\n",
       "      <th>percentage_of_FPD30</th>\n",
       "      <th>thirtyplus</th>\n",
       "      <th>sixtyplus</th>\n",
       "      <th>nintyplus</th>\n",
       "    </tr>\n",
       "  </thead>\n",
       "  <tbody>\n",
       "    <tr>\n",
       "      <th>0</th>\n",
       "      <td>Quick</td>\n",
       "      <td>13.294</td>\n",
       "      <td>51.675</td>\n",
       "      <td>46.800</td>\n",
       "      <td>43.976</td>\n",
       "    </tr>\n",
       "    <tr>\n",
       "      <th>1</th>\n",
       "      <td>SIL-Instore</td>\n",
       "      <td>5.828</td>\n",
       "      <td>14.710</td>\n",
       "      <td>10.279</td>\n",
       "      <td>16.796</td>\n",
       "    </tr>\n",
       "    <tr>\n",
       "      <th>2</th>\n",
       "      <td>Flex</td>\n",
       "      <td>2.627</td>\n",
       "      <td>29.625</td>\n",
       "      <td>26.069</td>\n",
       "      <td>23.126</td>\n",
       "    </tr>\n",
       "  </tbody>\n",
       "</table>\n",
       "</div>"
      ],
      "text/plain": [
       "  new_loan_type  percentage_of_FPD30  thirtyplus  sixtyplus  nintyplus\n",
       "0         Quick               13.294      51.675     46.800     43.976\n",
       "1   SIL-Instore                5.828      14.710     10.279     16.796\n",
       "2          Flex                2.627      29.625     26.069     23.126"
      ]
     },
     "execution_count": 9,
     "metadata": {},
     "output_type": "execute_result"
    }
   ],
   "source": [
    "dffeb = febfpd30.merge(secondpartfeb24, on='new_loan_type', how='left')\n",
    "dffeb"
   ]
  },
  {
   "cell_type": "code",
   "execution_count": 10,
   "metadata": {},
   "outputs": [
    {
     "data": {
      "text/html": [
       "<div>\n",
       "<style scoped>\n",
       "    .dataframe tbody tr th:only-of-type {\n",
       "        vertical-align: middle;\n",
       "    }\n",
       "\n",
       "    .dataframe tbody tr th {\n",
       "        vertical-align: top;\n",
       "    }\n",
       "\n",
       "    .dataframe thead th {\n",
       "        text-align: right;\n",
       "    }\n",
       "</style>\n",
       "<table border=\"1\" class=\"dataframe\">\n",
       "  <thead>\n",
       "    <tr style=\"text-align: right;\">\n",
       "      <th></th>\n",
       "      <th>new_loan_type</th>\n",
       "      <th>percentage_of_FPD30</th>\n",
       "      <th>thirtyplus</th>\n",
       "      <th>sixtyplus</th>\n",
       "      <th>nintyplus</th>\n",
       "    </tr>\n",
       "  </thead>\n",
       "  <tbody>\n",
       "    <tr>\n",
       "      <th>0</th>\n",
       "      <td>Quick</td>\n",
       "      <td>14.429</td>\n",
       "      <td>58.553</td>\n",
       "      <td>53.424</td>\n",
       "      <td>51.604</td>\n",
       "    </tr>\n",
       "    <tr>\n",
       "      <th>1</th>\n",
       "      <td>SIL-Instore</td>\n",
       "      <td>6.240</td>\n",
       "      <td>16.344</td>\n",
       "      <td>11.561</td>\n",
       "      <td>16.460</td>\n",
       "    </tr>\n",
       "    <tr>\n",
       "      <th>2</th>\n",
       "      <td>Flex</td>\n",
       "      <td>2.700</td>\n",
       "      <td>33.267</td>\n",
       "      <td>29.034</td>\n",
       "      <td>27.110</td>\n",
       "    </tr>\n",
       "  </tbody>\n",
       "</table>\n",
       "</div>"
      ],
      "text/plain": [
       "  new_loan_type  percentage_of_FPD30  thirtyplus  sixtyplus  nintyplus\n",
       "0         Quick               14.429      58.553     53.424     51.604\n",
       "1   SIL-Instore                6.240      16.344     11.561     16.460\n",
       "2          Flex                2.700      33.267     29.034     27.110"
      ]
     },
     "execution_count": 10,
     "metadata": {},
     "output_type": "execute_result"
    }
   ],
   "source": [
    "dfmarch = marchfpd30.merge(secondpartmarch24, on='new_loan_type', how='left')\n",
    "dfmarch"
   ]
  },
  {
   "cell_type": "code",
   "execution_count": 14,
   "metadata": {},
   "outputs": [],
   "source": [
    "# Create a Pandas Excel writer using XlsxWriter as the engine\n",
    "writer = pd.ExcelWriter(r'D:\\OneDrive - Tonik Financial Pte Ltd\\MyStuff\\Collection\\Jennifer Zaldivar\\KRI_New_Report\\Data\\KRI_Report_New.xlsx', engine='xlsxwriter')\n",
    "\n",
    "# Write each dataframe to a separate worksheet\n",
    "dfjan.to_excel(writer, sheet_name='January2024')\n",
    "dffeb.to_excel(writer, sheet_name='February2024')\n",
    "dfmarch.to_excel(writer, sheet_name='March2024')\n",
    "\n",
    "# Close the Pandas Excel writer and output the Excel file\n",
    "writer.close()"
   ]
  },
  {
   "cell_type": "code",
   "execution_count": null,
   "metadata": {},
   "outputs": [],
   "source": []
  }
 ],
 "metadata": {
  "kernelspec": {
   "display_name": "prjreports",
   "language": "python",
   "name": "python3"
  },
  "language_info": {
   "codemirror_mode": {
    "name": "ipython",
    "version": 3
   },
   "file_extension": ".py",
   "mimetype": "text/x-python",
   "name": "python",
   "nbconvert_exporter": "python",
   "pygments_lexer": "ipython3",
   "version": "3.9.10"
  }
 },
 "nbformat": 4,
 "nbformat_minor": 2
}
