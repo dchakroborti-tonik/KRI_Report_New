{
 "cells": [
  {
   "cell_type": "markdown",
   "metadata": {},
   "source": [
    "# <div align=\"center\" style=\"color: #ff5733;\">New KPI Report</div>"
   ]
  },
  {
   "cell_type": "markdown",
   "metadata": {},
   "source": [
    "## *Requestor is Jennyfer & Anne*"
   ]
  },
  {
   "cell_type": "code",
   "execution_count": 1,
   "metadata": {},
   "outputs": [],
   "source": [
    "# %% [markdown]\n",
    "# # Jupyter Notebook Loading Header\n",
    "#\n",
    "# This is a custom loading header for Jupyter Notebooks in Visual Studio Code.\n",
    "# It includes common imports and settings to get you started quickly.\n",
    "\n",
    "# %% [markdown]\n",
    "## Import Libraries\n",
    "import pandas as pd\n",
    "import numpy as np\n",
    "import matplotlib.pyplot as plt\n",
    "import seaborn as sns\n",
    "from google.cloud import bigquery\n",
    "import os\n",
    "path = r'C:\\Users\\DwaipayanChakroborti\\AppData\\Roaming\\gcloud\\legacy_credentials\\dchakroborti@tonikbank.com\\adc.json'\n",
    "os.environ['GOOGLE_APPLICATION_CREDENTIALS'] = path\n",
    "client = bigquery.Client(project='prj-prod-dataplatform')\n",
    "\n",
    "# %% [markdown]\n",
    "## Configure Settings\n",
    "# Set options or configurations as needed\n",
    "# Example: pd.set_option('display.max_columns', None)"
   ]
  },
  {
   "cell_type": "markdown",
   "metadata": {},
   "source": [
    "# FPD30 September 2024 Month End"
   ]
  },
  {
   "cell_type": "code",
   "execution_count": 2,
   "metadata": {},
   "outputs": [
    {
     "name": "stdout",
     "output_type": "stream",
     "text": [
      "Job ID 784211fa-d31a-4af7-9874-8da074f8ed60 successfully executed: 100%|\u001b[32m██████████\u001b[0m|\n",
      "Downloading: 100%|\u001b[32m██████████\u001b[0m|\n"
     ]
    },
    {
     "data": {
      "text/html": [
       "<div>\n",
       "<style scoped>\n",
       "    .dataframe tbody tr th:only-of-type {\n",
       "        vertical-align: middle;\n",
       "    }\n",
       "\n",
       "    .dataframe tbody tr th {\n",
       "        vertical-align: top;\n",
       "    }\n",
       "\n",
       "    .dataframe thead th {\n",
       "        text-align: right;\n",
       "    }\n",
       "</style>\n",
       "<table border=\"1\" class=\"dataframe\">\n",
       "  <thead>\n",
       "    <tr style=\"text-align: right;\">\n",
       "      <th></th>\n",
       "      <th>new_loan_type</th>\n",
       "      <th>percentage_of_FPD30</th>\n",
       "    </tr>\n",
       "  </thead>\n",
       "  <tbody>\n",
       "    <tr>\n",
       "      <th>0</th>\n",
       "      <td>SIL-Instore</td>\n",
       "      <td>6.993</td>\n",
       "    </tr>\n",
       "    <tr>\n",
       "      <th>1</th>\n",
       "      <td>Flex</td>\n",
       "      <td>0.558</td>\n",
       "    </tr>\n",
       "    <tr>\n",
       "      <th>2</th>\n",
       "      <td>Quick</td>\n",
       "      <td>10.844</td>\n",
       "    </tr>\n",
       "  </tbody>\n",
       "</table>\n",
       "</div>"
      ],
      "text/plain": [
       "  new_loan_type  percentage_of_FPD30\n",
       "0   SIL-Instore                6.993\n",
       "1          Flex                0.558\n",
       "2         Quick               10.844"
      ]
     },
     "execution_count": 2,
     "metadata": {},
     "output_type": "execute_result"
    }
   ],
   "source": [
    "sq = \"\"\"SELECT t1.new_loan_type,\n",
    "ROUND(SUM(CASE when t1.defFPD30 = 1 then 1 ELSE 0 end )/sum(t1.obsFPD30)*100,3) as percentage_of_FPD30\n",
    "from `prj-prod-dataplatform.risk_credit_mis.loan_master_table` t1\n",
    "inner JOIN prj-prod-dataplatform.risk_credit_mis.loan_bucket_flow_report_core t2\n",
    "ON\n",
    "t1.loanAccountNumber = t2.loanAccountNumber\n",
    "WHERE t1.flagDisbursement = 1\n",
    "and t1.new_loan_type in ('Quick','Flex','SIL-Instore')\n",
    "and t2.loanStatus in ('In Arrears','Normal')\n",
    "and t2.bucketDate in ('2024-09-30')\n",
    "GROUP BY 1;\"\"\"\n",
    "\n",
    "sep24fpd30 = client.query(sq).to_dataframe(progress_bar_type='tqdm')\n",
    "sep24fpd30"
   ]
  },
  {
   "cell_type": "markdown",
   "metadata": {},
   "source": [
    "# 30+, 60+, 90+ for September 2024"
   ]
  },
  {
   "cell_type": "code",
   "execution_count": 3,
   "metadata": {},
   "outputs": [
    {
     "name": "stdout",
     "output_type": "stream",
     "text": [
      "Job ID a80463ec-069b-4c58-bdac-2123f0674cbf successfully executed: 100%|\u001b[32m██████████\u001b[0m|\n",
      "Downloading: 100%|\u001b[32m██████████\u001b[0m|\n"
     ]
    },
    {
     "data": {
      "text/html": [
       "<div>\n",
       "<style scoped>\n",
       "    .dataframe tbody tr th:only-of-type {\n",
       "        vertical-align: middle;\n",
       "    }\n",
       "\n",
       "    .dataframe tbody tr th {\n",
       "        vertical-align: top;\n",
       "    }\n",
       "\n",
       "    .dataframe thead th {\n",
       "        text-align: right;\n",
       "    }\n",
       "</style>\n",
       "<table border=\"1\" class=\"dataframe\">\n",
       "  <thead>\n",
       "    <tr style=\"text-align: right;\">\n",
       "      <th></th>\n",
       "      <th>new_loan_type</th>\n",
       "      <th>thirtyplus</th>\n",
       "      <th>sixtyplus</th>\n",
       "      <th>nintyplus</th>\n",
       "    </tr>\n",
       "  </thead>\n",
       "  <tbody>\n",
       "    <tr>\n",
       "      <th>0</th>\n",
       "      <td>Flex</td>\n",
       "      <td>38.247</td>\n",
       "      <td>34.343</td>\n",
       "      <td>29.801</td>\n",
       "    </tr>\n",
       "    <tr>\n",
       "      <th>1</th>\n",
       "      <td>Quick</td>\n",
       "      <td>41.830</td>\n",
       "      <td>33.901</td>\n",
       "      <td>40.570</td>\n",
       "    </tr>\n",
       "    <tr>\n",
       "      <th>2</th>\n",
       "      <td>SIL-Instore</td>\n",
       "      <td>24.827</td>\n",
       "      <td>18.796</td>\n",
       "      <td>22.305</td>\n",
       "    </tr>\n",
       "  </tbody>\n",
       "</table>\n",
       "</div>"
      ],
      "text/plain": [
       "  new_loan_type  thirtyplus  sixtyplus  nintyplus\n",
       "0          Flex      38.247     34.343     29.801\n",
       "1         Quick      41.830     33.901     40.570\n",
       "2   SIL-Instore      24.827     18.796     22.305"
      ]
     },
     "execution_count": 3,
     "metadata": {},
     "output_type": "execute_result"
    }
   ],
   "source": [
    "sq = \"\"\"with b as\n",
    "(select t1.new_loan_type \n",
    ", count(distinct t2.loanAccountNumber) cnt_loan\n",
    ", count(distinct case when t2.Max_current_DPD >=30 then t2.loanAccountNumber end) thirtyplus\n",
    ", count(distinct case when date_diff(date(t2.bucketDate), date(t2.firstduedate), day) >=30 then t2.loanAccountNumber end) obsthirtyplus\n",
    ", count(distinct case when t2.Max_current_DPD >=60 then t2.loanAccountNumber end) sixtyplus\n",
    ", count(distinct case when date_diff(date(t2.bucketDate), date(t2.firstduedate), day) >=60 then t2.loanAccountNumber end) obssixtyplus\n",
    ", count(distinct case when t2.Max_current_DPD >=90 then t2.loanAccountNumber end) nintyplus\n",
    ", count(distinct case when date_diff(date(t2.bucketDate), date(t2.firstduedate), day) >= 90 then t2.loanAccountNumber end) obsnintyplus\n",
    "from `risk_credit_mis.loan_bucket_flow_report_core` t2\n",
    "inner join `risk_credit_mis.loan_master_table` t1 on t2.loanAccountNumber = t1.loanAccountNumber\n",
    "WHERE t1.flagDisbursement = 1\n",
    "and t1.new_loan_type in ('Quick','Flex','SIL-Instore')\n",
    "and t2.loanStatus in ('In Arrears','Normal')\n",
    "and t2.bucketDate in ('2024-09-30')\n",
    "group by 1\n",
    ")\n",
    "select \n",
    "new_loan_type,\n",
    "round(sum(thirtyplus)/sum(obsthirtyplus)*100, 3) thirtyplus,\n",
    "round(sum(sixtyplus)/sum(obsthirtyplus)*100, 3) sixtyplus,\n",
    "round(sum(nintyplus)/sum(obsnintyplus)*100, 3) nintyplus,\n",
    "from b\n",
    "group by 1\n",
    "order by 1\n",
    ";\"\"\"\n",
    "\n",
    "secondpartSep24 = client.query(sq).to_dataframe(progress_bar_type='tqdm')\n",
    "secondpartSep24"
   ]
  },
  {
   "cell_type": "markdown",
   "metadata": {},
   "source": [
    "# 30+, 60+, 90+ for September 2024 (without Product)"
   ]
  },
  {
   "cell_type": "code",
   "execution_count": 7,
   "metadata": {},
   "outputs": [
    {
     "name": "stdout",
     "output_type": "stream",
     "text": [
      "Job ID 5e2190fe-8594-4185-89fe-064f804d3cb3 successfully executed: 100%|\u001b[32m██████████\u001b[0m|\n",
      "Downloading: 100%|\u001b[32m██████████\u001b[0m|\n"
     ]
    },
    {
     "data": {
      "text/html": [
       "<div>\n",
       "<style scoped>\n",
       "    .dataframe tbody tr th:only-of-type {\n",
       "        vertical-align: middle;\n",
       "    }\n",
       "\n",
       "    .dataframe tbody tr th {\n",
       "        vertical-align: top;\n",
       "    }\n",
       "\n",
       "    .dataframe thead th {\n",
       "        text-align: right;\n",
       "    }\n",
       "</style>\n",
       "<table border=\"1\" class=\"dataframe\">\n",
       "  <thead>\n",
       "    <tr style=\"text-align: right;\">\n",
       "      <th></th>\n",
       "      <th>thirtyplus</th>\n",
       "      <th>sixtyplus</th>\n",
       "      <th>nintyplus</th>\n",
       "    </tr>\n",
       "  </thead>\n",
       "  <tbody>\n",
       "    <tr>\n",
       "      <th>0</th>\n",
       "      <td>27.045</td>\n",
       "      <td>20.842</td>\n",
       "      <td>24.745</td>\n",
       "    </tr>\n",
       "  </tbody>\n",
       "</table>\n",
       "</div>"
      ],
      "text/plain": [
       "   thirtyplus  sixtyplus  nintyplus\n",
       "0      27.045     20.842     24.745"
      ]
     },
     "execution_count": 7,
     "metadata": {},
     "output_type": "execute_result"
    }
   ],
   "source": [
    "sq = \"\"\"with b as\n",
    "(select \n",
    "count(distinct t2.loanAccountNumber) cnt_loan\n",
    ", count(distinct case when t2.Max_current_DPD >=30 then t2.loanAccountNumber end) thirtyplus\n",
    ", count(distinct case when date_diff(date(t2.bucketDate), date(t2.firstduedate), day) >=30 then t2.loanAccountNumber end) obsthirtyplus\n",
    ", count(distinct case when t2.Max_current_DPD >=60 then t2.loanAccountNumber end) sixtyplus\n",
    ", count(distinct case when date_diff(date(t2.bucketDate), date(t2.firstduedate), day) >=60 then t2.loanAccountNumber end) obssixtyplus\n",
    ", count(distinct case when t2.Max_current_DPD >=90 then t2.loanAccountNumber end) nintyplus\n",
    ", count(distinct case when date_diff(date(t2.bucketDate), date(t2.firstduedate), day) >= 90 then t2.loanAccountNumber end) obsnintyplus\n",
    "from `risk_credit_mis.loan_bucket_flow_report_core` t2\n",
    "inner join `risk_credit_mis.loan_master_table` t1 on t2.loanAccountNumber = t1.loanAccountNumber\n",
    "WHERE t1.flagDisbursement = 1\n",
    "and t1.new_loan_type in ('Quick','Flex','SIL-Instore')\n",
    "and t2.loanStatus in ('In Arrears','Normal')\n",
    "and t2.bucketDate in ('2024-09-30')\n",
    ")\n",
    "select \n",
    "round(sum(thirtyplus)/sum(obsthirtyplus)*100, 3) thirtyplus,\n",
    "round(sum(sixtyplus)/sum(obsthirtyplus)*100, 3) sixtyplus,\n",
    "round(sum(nintyplus)/sum(obsnintyplus)*100, 3) nintyplus,\n",
    "from b\n",
    "order by 1\n",
    ";\"\"\"\n",
    "\n",
    "thirdpartSep24 = client.query(sq).to_dataframe(progress_bar_type='tqdm')\n",
    "thirdpartSep24"
   ]
  },
  {
   "cell_type": "code",
   "execution_count": 8,
   "metadata": {},
   "outputs": [
    {
     "data": {
      "text/html": [
       "<div>\n",
       "<style scoped>\n",
       "    .dataframe tbody tr th:only-of-type {\n",
       "        vertical-align: middle;\n",
       "    }\n",
       "\n",
       "    .dataframe tbody tr th {\n",
       "        vertical-align: top;\n",
       "    }\n",
       "\n",
       "    .dataframe thead th {\n",
       "        text-align: right;\n",
       "    }\n",
       "</style>\n",
       "<table border=\"1\" class=\"dataframe\">\n",
       "  <thead>\n",
       "    <tr style=\"text-align: right;\">\n",
       "      <th></th>\n",
       "      <th>new_loan_type</th>\n",
       "      <th>percentage_of_FPD30</th>\n",
       "    </tr>\n",
       "  </thead>\n",
       "  <tbody>\n",
       "    <tr>\n",
       "      <th>0</th>\n",
       "      <td>SIL-Instore</td>\n",
       "      <td>6.993</td>\n",
       "    </tr>\n",
       "    <tr>\n",
       "      <th>1</th>\n",
       "      <td>Flex</td>\n",
       "      <td>0.558</td>\n",
       "    </tr>\n",
       "    <tr>\n",
       "      <th>2</th>\n",
       "      <td>Quick</td>\n",
       "      <td>10.844</td>\n",
       "    </tr>\n",
       "  </tbody>\n",
       "</table>\n",
       "</div>"
      ],
      "text/plain": [
       "  new_loan_type  percentage_of_FPD30\n",
       "0   SIL-Instore                6.993\n",
       "1          Flex                0.558\n",
       "2         Quick               10.844"
      ]
     },
     "execution_count": 8,
     "metadata": {},
     "output_type": "execute_result"
    }
   ],
   "source": [
    "sep24fpd30.head()"
   ]
  },
  {
   "cell_type": "code",
   "execution_count": 9,
   "metadata": {},
   "outputs": [
    {
     "data": {
      "text/html": [
       "<div>\n",
       "<style scoped>\n",
       "    .dataframe tbody tr th:only-of-type {\n",
       "        vertical-align: middle;\n",
       "    }\n",
       "\n",
       "    .dataframe tbody tr th {\n",
       "        vertical-align: top;\n",
       "    }\n",
       "\n",
       "    .dataframe thead th {\n",
       "        text-align: right;\n",
       "    }\n",
       "</style>\n",
       "<table border=\"1\" class=\"dataframe\">\n",
       "  <thead>\n",
       "    <tr style=\"text-align: right;\">\n",
       "      <th></th>\n",
       "      <th>new_loan_type</th>\n",
       "      <th>thirtyplus</th>\n",
       "      <th>sixtyplus</th>\n",
       "      <th>nintyplus</th>\n",
       "    </tr>\n",
       "  </thead>\n",
       "  <tbody>\n",
       "    <tr>\n",
       "      <th>0</th>\n",
       "      <td>Flex</td>\n",
       "      <td>38.247</td>\n",
       "      <td>34.343</td>\n",
       "      <td>29.801</td>\n",
       "    </tr>\n",
       "    <tr>\n",
       "      <th>1</th>\n",
       "      <td>Quick</td>\n",
       "      <td>41.830</td>\n",
       "      <td>33.901</td>\n",
       "      <td>40.570</td>\n",
       "    </tr>\n",
       "    <tr>\n",
       "      <th>2</th>\n",
       "      <td>SIL-Instore</td>\n",
       "      <td>24.827</td>\n",
       "      <td>18.796</td>\n",
       "      <td>22.305</td>\n",
       "    </tr>\n",
       "  </tbody>\n",
       "</table>\n",
       "</div>"
      ],
      "text/plain": [
       "  new_loan_type  thirtyplus  sixtyplus  nintyplus\n",
       "0          Flex      38.247     34.343     29.801\n",
       "1         Quick      41.830     33.901     40.570\n",
       "2   SIL-Instore      24.827     18.796     22.305"
      ]
     },
     "execution_count": 9,
     "metadata": {},
     "output_type": "execute_result"
    }
   ],
   "source": [
    "secondpartSep24.head()"
   ]
  },
  {
   "cell_type": "code",
   "execution_count": 10,
   "metadata": {},
   "outputs": [
    {
     "data": {
      "text/html": [
       "<div>\n",
       "<style scoped>\n",
       "    .dataframe tbody tr th:only-of-type {\n",
       "        vertical-align: middle;\n",
       "    }\n",
       "\n",
       "    .dataframe tbody tr th {\n",
       "        vertical-align: top;\n",
       "    }\n",
       "\n",
       "    .dataframe thead th {\n",
       "        text-align: right;\n",
       "    }\n",
       "</style>\n",
       "<table border=\"1\" class=\"dataframe\">\n",
       "  <thead>\n",
       "    <tr style=\"text-align: right;\">\n",
       "      <th></th>\n",
       "      <th>new_loan_type</th>\n",
       "      <th>percentage_of_FPD30</th>\n",
       "      <th>thirtyplus</th>\n",
       "      <th>sixtyplus</th>\n",
       "      <th>nintyplus</th>\n",
       "    </tr>\n",
       "  </thead>\n",
       "  <tbody>\n",
       "    <tr>\n",
       "      <th>0</th>\n",
       "      <td>SIL-Instore</td>\n",
       "      <td>6.993</td>\n",
       "      <td>24.827</td>\n",
       "      <td>18.796</td>\n",
       "      <td>22.305</td>\n",
       "    </tr>\n",
       "    <tr>\n",
       "      <th>1</th>\n",
       "      <td>Flex</td>\n",
       "      <td>0.558</td>\n",
       "      <td>38.247</td>\n",
       "      <td>34.343</td>\n",
       "      <td>29.801</td>\n",
       "    </tr>\n",
       "    <tr>\n",
       "      <th>2</th>\n",
       "      <td>Quick</td>\n",
       "      <td>10.844</td>\n",
       "      <td>41.830</td>\n",
       "      <td>33.901</td>\n",
       "      <td>40.570</td>\n",
       "    </tr>\n",
       "  </tbody>\n",
       "</table>\n",
       "</div>"
      ],
      "text/plain": [
       "  new_loan_type  percentage_of_FPD30  thirtyplus  sixtyplus  nintyplus\n",
       "0   SIL-Instore                6.993      24.827     18.796     22.305\n",
       "1          Flex                0.558      38.247     34.343     29.801\n",
       "2         Quick               10.844      41.830     33.901     40.570"
      ]
     },
     "execution_count": 10,
     "metadata": {},
     "output_type": "execute_result"
    }
   ],
   "source": [
    "dfSep24 = sep24fpd30.merge(secondpartSep24, on='new_loan_type', how='left')\n",
    "dfSep24"
   ]
  },
  {
   "cell_type": "code",
   "execution_count": 11,
   "metadata": {},
   "outputs": [
    {
     "data": {
      "text/html": [
       "<div>\n",
       "<style scoped>\n",
       "    .dataframe tbody tr th:only-of-type {\n",
       "        vertical-align: middle;\n",
       "    }\n",
       "\n",
       "    .dataframe tbody tr th {\n",
       "        vertical-align: top;\n",
       "    }\n",
       "\n",
       "    .dataframe thead th {\n",
       "        text-align: right;\n",
       "    }\n",
       "</style>\n",
       "<table border=\"1\" class=\"dataframe\">\n",
       "  <thead>\n",
       "    <tr style=\"text-align: right;\">\n",
       "      <th></th>\n",
       "      <th>thirtyplus</th>\n",
       "      <th>sixtyplus</th>\n",
       "      <th>nintyplus</th>\n",
       "    </tr>\n",
       "  </thead>\n",
       "  <tbody>\n",
       "    <tr>\n",
       "      <th>0</th>\n",
       "      <td>27.045</td>\n",
       "      <td>20.842</td>\n",
       "      <td>24.745</td>\n",
       "    </tr>\n",
       "  </tbody>\n",
       "</table>\n",
       "</div>"
      ],
      "text/plain": [
       "   thirtyplus  sixtyplus  nintyplus\n",
       "0      27.045     20.842     24.745"
      ]
     },
     "execution_count": 11,
     "metadata": {},
     "output_type": "execute_result"
    }
   ],
   "source": [
    "thirdpartSep24.head()"
   ]
  },
  {
   "cell_type": "code",
   "execution_count": 12,
   "metadata": {},
   "outputs": [],
   "source": [
    "resultSep24 = pd.concat([dfSep24, thirdpartSep24], ignore_index=True)\n"
   ]
  },
  {
   "cell_type": "code",
   "execution_count": 13,
   "metadata": {},
   "outputs": [
    {
     "data": {
      "text/html": [
       "<div>\n",
       "<style scoped>\n",
       "    .dataframe tbody tr th:only-of-type {\n",
       "        vertical-align: middle;\n",
       "    }\n",
       "\n",
       "    .dataframe tbody tr th {\n",
       "        vertical-align: top;\n",
       "    }\n",
       "\n",
       "    .dataframe thead th {\n",
       "        text-align: right;\n",
       "    }\n",
       "</style>\n",
       "<table border=\"1\" class=\"dataframe\">\n",
       "  <thead>\n",
       "    <tr style=\"text-align: right;\">\n",
       "      <th></th>\n",
       "      <th>new_loan_type</th>\n",
       "      <th>percentage_of_FPD30</th>\n",
       "      <th>thirtyplus</th>\n",
       "      <th>sixtyplus</th>\n",
       "      <th>nintyplus</th>\n",
       "    </tr>\n",
       "  </thead>\n",
       "  <tbody>\n",
       "    <tr>\n",
       "      <th>0</th>\n",
       "      <td>SIL-Instore</td>\n",
       "      <td>6.993</td>\n",
       "      <td>24.827</td>\n",
       "      <td>18.796</td>\n",
       "      <td>22.305</td>\n",
       "    </tr>\n",
       "    <tr>\n",
       "      <th>1</th>\n",
       "      <td>Flex</td>\n",
       "      <td>0.558</td>\n",
       "      <td>38.247</td>\n",
       "      <td>34.343</td>\n",
       "      <td>29.801</td>\n",
       "    </tr>\n",
       "    <tr>\n",
       "      <th>2</th>\n",
       "      <td>Quick</td>\n",
       "      <td>10.844</td>\n",
       "      <td>41.830</td>\n",
       "      <td>33.901</td>\n",
       "      <td>40.570</td>\n",
       "    </tr>\n",
       "    <tr>\n",
       "      <th>3</th>\n",
       "      <td>Portfolio</td>\n",
       "      <td>NaN</td>\n",
       "      <td>27.045</td>\n",
       "      <td>20.842</td>\n",
       "      <td>24.745</td>\n",
       "    </tr>\n",
       "  </tbody>\n",
       "</table>\n",
       "</div>"
      ],
      "text/plain": [
       "  new_loan_type  percentage_of_FPD30  thirtyplus  sixtyplus  nintyplus\n",
       "0   SIL-Instore                6.993      24.827     18.796     22.305\n",
       "1          Flex                0.558      38.247     34.343     29.801\n",
       "2         Quick               10.844      41.830     33.901     40.570\n",
       "3     Portfolio                  NaN      27.045     20.842     24.745"
      ]
     },
     "execution_count": 13,
     "metadata": {},
     "output_type": "execute_result"
    }
   ],
   "source": [
    "resultSep24['new_loan_type'] = resultSep24['new_loan_type'].fillna(\"Portfolio\")\n",
    "resultSep24"
   ]
  },
  {
   "cell_type": "code",
   "execution_count": 14,
   "metadata": {},
   "outputs": [],
   "source": [
    "import pandas as pd\n",
    "from openpyxl import load_workbook\n"
   ]
  },
  {
   "cell_type": "code",
   "execution_count": 16,
   "metadata": {},
   "outputs": [],
   "source": [
    "# Load the existing Excel file\n",
    "existing_excel_file = r'C:\\Users\\DwaipayanChakroborti\\OneDrive - Tonik Financial Pte Ltd\\MyStuff\\Collection\\Anne\\Jennifer Zaldivar\\KRI_New_Report\\Data\\20240902_KRI_Report_New.xlsx'\n",
    "xls = pd.ExcelFile(existing_excel_file)\n",
    "\n",
    "# Read each existing sheet into separate dataframes\n",
    "df_january = pd.read_excel(xls, sheet_name='January2024')\n",
    "df_february = pd.read_excel(xls, sheet_name='February2024')\n",
    "df_march = pd.read_excel(xls, sheet_name='March2024')\n",
    "df_april = pd.read_excel(xls, sheet_name='April2024')\n",
    "df_may = pd.read_excel(xls, sheet_name='May2024')\n",
    "df_june = pd.read_excel(xls, sheet_name='June2024')\n",
    "df_july = pd.read_excel(xls, sheet_name='JuLy2024')\n",
    "df_aug = pd.read_excel(xls, sheet_name='August2024')\n",
    "\n",
    "\n"
   ]
  },
  {
   "cell_type": "code",
   "execution_count": 17,
   "metadata": {},
   "outputs": [
    {
     "data": {
      "text/html": [
       "<div>\n",
       "<style scoped>\n",
       "    .dataframe tbody tr th:only-of-type {\n",
       "        vertical-align: middle;\n",
       "    }\n",
       "\n",
       "    .dataframe tbody tr th {\n",
       "        vertical-align: top;\n",
       "    }\n",
       "\n",
       "    .dataframe thead th {\n",
       "        text-align: right;\n",
       "    }\n",
       "</style>\n",
       "<table border=\"1\" class=\"dataframe\">\n",
       "  <thead>\n",
       "    <tr style=\"text-align: right;\">\n",
       "      <th></th>\n",
       "      <th>new_loan_type</th>\n",
       "      <th>percentage_of_FPD30</th>\n",
       "      <th>thirtyplus</th>\n",
       "      <th>sixtyplus</th>\n",
       "      <th>nintyplus</th>\n",
       "    </tr>\n",
       "  </thead>\n",
       "  <tbody>\n",
       "    <tr>\n",
       "      <th>0</th>\n",
       "      <td>A. Flex</td>\n",
       "      <td>0.504</td>\n",
       "      <td>32.806</td>\n",
       "      <td>28.201</td>\n",
       "      <td>24.029</td>\n",
       "    </tr>\n",
       "    <tr>\n",
       "      <th>1</th>\n",
       "      <td>B. Quick</td>\n",
       "      <td>9.508</td>\n",
       "      <td>38.088</td>\n",
       "      <td>30.153</td>\n",
       "      <td>35.920</td>\n",
       "    </tr>\n",
       "    <tr>\n",
       "      <th>2</th>\n",
       "      <td>C. SIL-Instore</td>\n",
       "      <td>6.250</td>\n",
       "      <td>21.766</td>\n",
       "      <td>15.630</td>\n",
       "      <td>18.821</td>\n",
       "    </tr>\n",
       "    <tr>\n",
       "      <th>3</th>\n",
       "      <td>D. Portfolio</td>\n",
       "      <td>NaN</td>\n",
       "      <td>23.937</td>\n",
       "      <td>17.631</td>\n",
       "      <td>21.193</td>\n",
       "    </tr>\n",
       "  </tbody>\n",
       "</table>\n",
       "</div>"
      ],
      "text/plain": [
       "    new_loan_type  percentage_of_FPD30  thirtyplus  sixtyplus  nintyplus\n",
       "0         A. Flex                0.504      32.806     28.201     24.029\n",
       "1        B. Quick                9.508      38.088     30.153     35.920\n",
       "2  C. SIL-Instore                6.250      21.766     15.630     18.821\n",
       "3    D. Portfolio                  NaN      23.937     17.631     21.193"
      ]
     },
     "execution_count": 17,
     "metadata": {},
     "output_type": "execute_result"
    }
   ],
   "source": [
    "df_aug"
   ]
  },
  {
   "cell_type": "code",
   "execution_count": 18,
   "metadata": {},
   "outputs": [
    {
     "data": {
      "text/html": [
       "<div>\n",
       "<style scoped>\n",
       "    .dataframe tbody tr th:only-of-type {\n",
       "        vertical-align: middle;\n",
       "    }\n",
       "\n",
       "    .dataframe tbody tr th {\n",
       "        vertical-align: top;\n",
       "    }\n",
       "\n",
       "    .dataframe thead th {\n",
       "        text-align: right;\n",
       "    }\n",
       "</style>\n",
       "<table border=\"1\" class=\"dataframe\">\n",
       "  <thead>\n",
       "    <tr style=\"text-align: right;\">\n",
       "      <th></th>\n",
       "      <th>new_loan_type</th>\n",
       "      <th>percentage_of_FPD30</th>\n",
       "      <th>thirtyplus</th>\n",
       "      <th>sixtyplus</th>\n",
       "      <th>nintyplus</th>\n",
       "    </tr>\n",
       "  </thead>\n",
       "  <tbody>\n",
       "    <tr>\n",
       "      <th>0</th>\n",
       "      <td>C. SIL-Instore</td>\n",
       "      <td>6.993</td>\n",
       "      <td>24.827</td>\n",
       "      <td>18.796</td>\n",
       "      <td>22.305</td>\n",
       "    </tr>\n",
       "    <tr>\n",
       "      <th>1</th>\n",
       "      <td>A. Flex</td>\n",
       "      <td>0.558</td>\n",
       "      <td>38.247</td>\n",
       "      <td>34.343</td>\n",
       "      <td>29.801</td>\n",
       "    </tr>\n",
       "    <tr>\n",
       "      <th>2</th>\n",
       "      <td>B. Quick</td>\n",
       "      <td>10.844</td>\n",
       "      <td>41.830</td>\n",
       "      <td>33.901</td>\n",
       "      <td>40.570</td>\n",
       "    </tr>\n",
       "    <tr>\n",
       "      <th>3</th>\n",
       "      <td>D. Portfolio</td>\n",
       "      <td>NaN</td>\n",
       "      <td>27.045</td>\n",
       "      <td>20.842</td>\n",
       "      <td>24.745</td>\n",
       "    </tr>\n",
       "  </tbody>\n",
       "</table>\n",
       "</div>"
      ],
      "text/plain": [
       "    new_loan_type  percentage_of_FPD30  thirtyplus  sixtyplus  nintyplus\n",
       "0  C. SIL-Instore                6.993      24.827     18.796     22.305\n",
       "1         A. Flex                0.558      38.247     34.343     29.801\n",
       "2        B. Quick               10.844      41.830     33.901     40.570\n",
       "3    D. Portfolio                  NaN      27.045     20.842     24.745"
      ]
     },
     "execution_count": 18,
     "metadata": {},
     "output_type": "execute_result"
    }
   ],
   "source": [
    "# Mapping function to modify 'new_loan_type' values\n",
    "def modify_loan_type(loan_type):\n",
    "    mapping = {'Flex': 'A. Flex', 'SIL-Instore': 'C. SIL-Instore', 'Quick': 'B. Quick', 'Portfolio': 'D. Portfolio'}\n",
    "    return mapping.get(loan_type, loan_type)  # Return original value if not found\n",
    "\n",
    "# Apply the mapping function to the 'new_loan_type' column\n",
    "resultSep24['new_loan_type'] = resultSep24['new_loan_type'].apply(modify_loan_type)\n",
    "resultSep24"
   ]
  },
  {
   "cell_type": "code",
   "execution_count": 19,
   "metadata": {},
   "outputs": [],
   "source": [
    "# Create a Pandas Excel writer using XlsxWriter as the engine\n",
    "writer = pd.ExcelWriter(r'C:\\Users\\DwaipayanChakroborti\\OneDrive - Tonik Financial Pte Ltd\\MyStuff\\Collection\\Anne\\Jennifer Zaldivar\\KRI_New_Report\\Data\\20241002_KRI_Report_New.xlsx', engine='xlsxwriter')\n",
    "\n",
    "# Sort each DataFrame by the first column and write to a separate worksheet, ignoring the index\n",
    "df_january.sort_values(by=df_january.columns[0]).to_excel(writer, sheet_name='January2024', index=False)\n",
    "df_february.sort_values(by=df_february.columns[0]).to_excel(writer, sheet_name='February2024', index=False)\n",
    "df_march.sort_values(by=df_march.columns[0]).to_excel(writer, sheet_name='March2024', index=False)\n",
    "df_april.sort_values(by=df_april.columns[0]).to_excel(writer, sheet_name='April2024', index=False)\n",
    "df_may.sort_values(by=df_may.columns[0]).to_excel(writer, sheet_name='May2024', index=False)\n",
    "df_june.sort_values(by=df_june.columns[0]).to_excel(writer, sheet_name='June2024', index=False)\n",
    "df_july.sort_values(by=df_july.columns[0]).to_excel(writer, sheet_name='July2024', index=False)\n",
    "df_aug.sort_values(by=df_aug.columns[0]).to_excel(writer, sheet_name='August2024', index=False)\n",
    "resultSep24.sort_values(by=resultSep24.columns[0]).to_excel(writer, sheet_name='September2024', index=False)\n",
    "\n",
    "# Close the Pandas Excel writer and output the Excel file\n",
    "writer.close()"
   ]
  },
  {
   "cell_type": "code",
   "execution_count": null,
   "metadata": {},
   "outputs": [],
   "source": []
  }
 ],
 "metadata": {
  "kernelspec": {
   "display_name": "Python 3",
   "language": "python",
   "name": "python3"
  },
  "language_info": {
   "codemirror_mode": {
    "name": "ipython",
    "version": 3
   },
   "file_extension": ".py",
   "mimetype": "text/x-python",
   "name": "python",
   "nbconvert_exporter": "python",
   "pygments_lexer": "ipython3",
   "version": "3.9.19"
  }
 },
 "nbformat": 4,
 "nbformat_minor": 2
}
