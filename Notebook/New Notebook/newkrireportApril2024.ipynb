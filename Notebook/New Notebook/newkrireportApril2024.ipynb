{
 "cells": [
  {
   "cell_type": "markdown",
   "metadata": {},
   "source": [
    "# <div align=\"center\" style=\"color: #ff5733;\">New KPI Report</div>"
   ]
  },
  {
   "cell_type": "markdown",
   "metadata": {},
   "source": [
    "## *Requestor is Jennyfer & Anne*"
   ]
  },
  {
   "cell_type": "code",
   "execution_count": 1,
   "metadata": {
    "tags": []
   },
   "outputs": [
    {
     "name": "stderr",
     "output_type": "stream",
     "text": [
      "c:\\Users\\DwaipayanChakroborti\\Myenv\\reporting\\lib\\site-packages\\google\\auth\\_default.py:76: UserWarning: Your application has authenticated using end user credentials from Google Cloud SDK without a quota project. You might receive a \"quota exceeded\" or \"API not enabled\" error. See the following page for troubleshooting: https://cloud.google.com/docs/authentication/adc-troubleshooting/user-creds. \n",
      "  warnings.warn(_CLOUD_SDK_CREDENTIALS_WARNING)\n"
     ]
    }
   ],
   "source": [
    "# %% [markdown]\n",
    "# # Jupyter Notebook Loading Header\n",
    "#\n",
    "# This is a custom loading header for Jupyter Notebooks in Visual Studio Code.\n",
    "# It includes common imports and settings to get you started quickly.\n",
    "\n",
    "# %% [markdown]\n",
    "## Import Libraries\n",
    "import pandas as pd\n",
    "import numpy as np\n",
    "import matplotlib.pyplot as plt\n",
    "import seaborn as sns\n",
    "from google.cloud import bigquery\n",
    "import os\n",
    "# path = r'C:\\Users\\DwaipayanChakroborti\\AppData\\Roaming\\gcloud\\legacy_credentials\\dchakroborti@tonikbank.com\\adc.json'\n",
    "# os.environ['GOOGLE_APPLICATION_CREDENTIALS'] = path\n",
    "client = bigquery.Client(project='prj-prod-dataplatform')\n",
    "\n",
    "# %% [markdown]\n",
    "## Configure Settings\n",
    "# Set options or configurations as needed\n",
    "# Example: pd.set_option('display.max_columns', None)"
   ]
  },
  {
   "cell_type": "markdown",
   "metadata": {},
   "source": [
    "# FPD30 November 2024 Month End"
   ]
  },
  {
   "cell_type": "code",
   "execution_count": 3,
   "metadata": {
    "tags": []
   },
   "outputs": [
    {
     "name": "stdout",
     "output_type": "stream",
     "text": [
      "Job ID 3cfdb708-e5b2-4ab1-8e72-859b61144187 successfully executed: 100%|\u001b[32m██████████\u001b[0m|\n",
      "Downloading: 100%|\u001b[32m██████████\u001b[0m|\n"
     ]
    },
    {
     "data": {
      "text/html": [
       "<div>\n",
       "<style scoped>\n",
       "    .dataframe tbody tr th:only-of-type {\n",
       "        vertical-align: middle;\n",
       "    }\n",
       "\n",
       "    .dataframe tbody tr th {\n",
       "        vertical-align: top;\n",
       "    }\n",
       "\n",
       "    .dataframe thead th {\n",
       "        text-align: right;\n",
       "    }\n",
       "</style>\n",
       "<table border=\"1\" class=\"dataframe\">\n",
       "  <thead>\n",
       "    <tr style=\"text-align: right;\">\n",
       "      <th></th>\n",
       "      <th>new_loan_type</th>\n",
       "      <th>percentage_of_FPD30</th>\n",
       "    </tr>\n",
       "  </thead>\n",
       "  <tbody>\n",
       "    <tr>\n",
       "      <th>0</th>\n",
       "      <td>Quick</td>\n",
       "      <td>13.853</td>\n",
       "    </tr>\n",
       "    <tr>\n",
       "      <th>1</th>\n",
       "      <td>SIL Competitor</td>\n",
       "      <td>0.000</td>\n",
       "    </tr>\n",
       "    <tr>\n",
       "      <th>2</th>\n",
       "      <td>SIL ZERO</td>\n",
       "      <td>8.960</td>\n",
       "    </tr>\n",
       "    <tr>\n",
       "      <th>3</th>\n",
       "      <td>Flex</td>\n",
       "      <td>0.222</td>\n",
       "    </tr>\n",
       "    <tr>\n",
       "      <th>4</th>\n",
       "      <td>SIL Repeat</td>\n",
       "      <td>0.000</td>\n",
       "    </tr>\n",
       "    <tr>\n",
       "      <th>5</th>\n",
       "      <td>SIL-Instore</td>\n",
       "      <td>8.092</td>\n",
       "    </tr>\n",
       "  </tbody>\n",
       "</table>\n",
       "</div>"
      ],
      "text/plain": [
       "    new_loan_type  percentage_of_FPD30\n",
       "0           Quick               13.853\n",
       "1  SIL Competitor                0.000\n",
       "2        SIL ZERO                8.960\n",
       "3            Flex                0.222\n",
       "4      SIL Repeat                0.000\n",
       "5     SIL-Instore                8.092"
      ]
     },
     "execution_count": 3,
     "metadata": {},
     "output_type": "execute_result"
    }
   ],
   "source": [
    "sq = \"\"\"SELECT t1.new_loan_type,\n",
    "case when sum(t1.obsFPD30) = 0 then 0 else ROUND(SUM(CASE when t1.defFPD30 = 1 then 1 ELSE 0 end )/sum(t1.obsFPD30)*100,3) end as percentage_of_FPD30\n",
    "from `prj-prod-dataplatform.risk_credit_mis.loan_master_table` t1\n",
    "inner JOIN prj-prod-dataplatform.risk_credit_mis.loan_bucket_flow_report_core t2\n",
    "ON\n",
    "t1.loanAccountNumber = t2.loanAccountNumber\n",
    "WHERE t1.flagDisbursement = 1\n",
    "and t1.new_loan_type in ('Quick','Flex','SIL-Instore', 'SIL ZERO', 'SIL Competitor', 'SIL Repeat')\n",
    "and t2.loanStatus in ('In Arrears','Normal')\n",
    "and t2.bucketDate in ('2024-11-30')\n",
    "GROUP BY 1;\"\"\"\n",
    "\n",
    "nov24fpd30 = client.query(sq).to_dataframe(progress_bar_type='tqdm')\n",
    "nov24fpd30"
   ]
  },
  {
   "cell_type": "markdown",
   "metadata": {},
   "source": [
    "# 30+, 60+, 90+ for November 2024"
   ]
  },
  {
   "cell_type": "code",
   "execution_count": 4,
   "metadata": {
    "tags": []
   },
   "outputs": [
    {
     "name": "stdout",
     "output_type": "stream",
     "text": [
      "Job ID ef5f471f-02bb-4adc-987f-3835364a1f6a successfully executed: 100%|\u001b[32m██████████\u001b[0m|\n",
      "Downloading: 100%|\u001b[32m██████████\u001b[0m|\n"
     ]
    },
    {
     "data": {
      "text/html": [
       "<div>\n",
       "<style scoped>\n",
       "    .dataframe tbody tr th:only-of-type {\n",
       "        vertical-align: middle;\n",
       "    }\n",
       "\n",
       "    .dataframe tbody tr th {\n",
       "        vertical-align: top;\n",
       "    }\n",
       "\n",
       "    .dataframe thead th {\n",
       "        text-align: right;\n",
       "    }\n",
       "</style>\n",
       "<table border=\"1\" class=\"dataframe\">\n",
       "  <thead>\n",
       "    <tr style=\"text-align: right;\">\n",
       "      <th></th>\n",
       "      <th>new_loan_type</th>\n",
       "      <th>thirtyplus</th>\n",
       "      <th>sixtyplus</th>\n",
       "      <th>nintyplus</th>\n",
       "    </tr>\n",
       "  </thead>\n",
       "  <tbody>\n",
       "    <tr>\n",
       "      <th>0</th>\n",
       "      <td>Flex</td>\n",
       "      <td>38.624</td>\n",
       "      <td>34.184</td>\n",
       "      <td>29.856</td>\n",
       "    </tr>\n",
       "    <tr>\n",
       "      <th>1</th>\n",
       "      <td>Quick</td>\n",
       "      <td>34.880</td>\n",
       "      <td>25.909</td>\n",
       "      <td>36.016</td>\n",
       "    </tr>\n",
       "    <tr>\n",
       "      <th>2</th>\n",
       "      <td>SIL Competitor</td>\n",
       "      <td>0.000</td>\n",
       "      <td>0.000</td>\n",
       "      <td>0.000</td>\n",
       "    </tr>\n",
       "    <tr>\n",
       "      <th>3</th>\n",
       "      <td>SIL Repeat</td>\n",
       "      <td>0.000</td>\n",
       "      <td>0.000</td>\n",
       "      <td>0.000</td>\n",
       "    </tr>\n",
       "    <tr>\n",
       "      <th>4</th>\n",
       "      <td>SIL ZERO</td>\n",
       "      <td>12.955</td>\n",
       "      <td>3.224</td>\n",
       "      <td>0.000</td>\n",
       "    </tr>\n",
       "    <tr>\n",
       "      <th>5</th>\n",
       "      <td>SIL-Instore</td>\n",
       "      <td>27.426</td>\n",
       "      <td>21.011</td>\n",
       "      <td>24.660</td>\n",
       "    </tr>\n",
       "  </tbody>\n",
       "</table>\n",
       "</div>"
      ],
      "text/plain": [
       "    new_loan_type  thirtyplus  sixtyplus  nintyplus\n",
       "0            Flex      38.624     34.184     29.856\n",
       "1           Quick      34.880     25.909     36.016\n",
       "2  SIL Competitor       0.000      0.000      0.000\n",
       "3      SIL Repeat       0.000      0.000      0.000\n",
       "4        SIL ZERO      12.955      3.224      0.000\n",
       "5     SIL-Instore      27.426     21.011     24.660"
      ]
     },
     "execution_count": 4,
     "metadata": {},
     "output_type": "execute_result"
    }
   ],
   "source": [
    "sq = \"\"\"with b as\n",
    "(select t1.new_loan_type \n",
    ", count(distinct t2.loanAccountNumber) cnt_loan\n",
    ", count(distinct case when t2.Max_current_DPD >=30 then t2.loanAccountNumber end) thirtyplus\n",
    ", count(distinct case when date_diff(date(t2.bucketDate), date(t2.firstduedate), day) >=30 then t2.loanAccountNumber end) obsthirtyplus\n",
    ", count(distinct case when t2.Max_current_DPD >=60 then t2.loanAccountNumber end) sixtyplus\n",
    ", count(distinct case when date_diff(date(t2.bucketDate), date(t2.firstduedate), day) >=60 then t2.loanAccountNumber end) obssixtyplus\n",
    ", count(distinct case when t2.Max_current_DPD >=90 then t2.loanAccountNumber end) nintyplus\n",
    ", count(distinct case when date_diff(date(t2.bucketDate), date(t2.firstduedate), day) >= 90 then t2.loanAccountNumber end) obsnintyplus\n",
    "from `risk_credit_mis.loan_bucket_flow_report_core` t2\n",
    "inner join `risk_credit_mis.loan_master_table` t1 on t2.loanAccountNumber = t1.loanAccountNumber\n",
    "WHERE t1.flagDisbursement = 1\n",
    "and t1.new_loan_type in ('Quick','Flex','SIL-Instore', 'SIL ZERO', 'SIL Competitor', 'SIL Repeat')\n",
    "and t2.loanStatus in ('In Arrears','Normal')\n",
    "and t2.bucketDate in ('2024-11-30')\n",
    "group by 1\n",
    ")\n",
    "select \n",
    "new_loan_type,\n",
    "case when sum(obsthirtyplus) = 0 then 0 else round(sum(thirtyplus)/sum(obsthirtyplus)*100, 3) end thirtyplus,\n",
    "case when sum(obsthirtyplus) = 0 then 0 else round(sum(sixtyplus)/sum(obsthirtyplus)*100, 3) end sixtyplus,\n",
    "case when sum(obsnintyplus) = 0 then 0 else round(sum(nintyplus)/sum(obsnintyplus)*100, 3) end nintyplus,\n",
    "from b\n",
    "group by 1\n",
    "order by 1\n",
    ";\"\"\"\n",
    "\n",
    "secondpartNov24 = client.query(sq).to_dataframe(progress_bar_type='tqdm')\n",
    "secondpartNov24"
   ]
  },
  {
   "cell_type": "markdown",
   "metadata": {},
   "source": [
    "# 30+, 60+, 90+ for November 2024 (without Product)"
   ]
  },
  {
   "cell_type": "code",
   "execution_count": 5,
   "metadata": {
    "tags": []
   },
   "outputs": [
    {
     "name": "stdout",
     "output_type": "stream",
     "text": [
      "Job ID ca3a02e6-b7ea-4a8b-8857-b41973997c67 successfully executed: 100%|\u001b[32m██████████\u001b[0m|\n",
      "Downloading: 100%|\u001b[32m██████████\u001b[0m|\n"
     ]
    },
    {
     "data": {
      "text/html": [
       "<div>\n",
       "<style scoped>\n",
       "    .dataframe tbody tr th:only-of-type {\n",
       "        vertical-align: middle;\n",
       "    }\n",
       "\n",
       "    .dataframe tbody tr th {\n",
       "        vertical-align: top;\n",
       "    }\n",
       "\n",
       "    .dataframe thead th {\n",
       "        text-align: right;\n",
       "    }\n",
       "</style>\n",
       "<table border=\"1\" class=\"dataframe\">\n",
       "  <thead>\n",
       "    <tr style=\"text-align: right;\">\n",
       "      <th></th>\n",
       "      <th>thirtyplus</th>\n",
       "      <th>sixtyplus</th>\n",
       "      <th>nintyplus</th>\n",
       "    </tr>\n",
       "  </thead>\n",
       "  <tbody>\n",
       "    <tr>\n",
       "      <th>0</th>\n",
       "      <td>28.259</td>\n",
       "      <td>21.448</td>\n",
       "      <td>26.057</td>\n",
       "    </tr>\n",
       "  </tbody>\n",
       "</table>\n",
       "</div>"
      ],
      "text/plain": [
       "   thirtyplus  sixtyplus  nintyplus\n",
       "0      28.259     21.448     26.057"
      ]
     },
     "execution_count": 5,
     "metadata": {},
     "output_type": "execute_result"
    }
   ],
   "source": [
    "sq = \"\"\"with b as\n",
    "(select \n",
    "count(distinct t2.loanAccountNumber) cnt_loan\n",
    ", count(distinct case when t2.Max_current_DPD >=30 then t2.loanAccountNumber end) thirtyplus\n",
    ", count(distinct case when date_diff(date(t2.bucketDate), date(t2.firstduedate), day) >=30 then t2.loanAccountNumber end) obsthirtyplus\n",
    ", count(distinct case when t2.Max_current_DPD >=60 then t2.loanAccountNumber end) sixtyplus\n",
    ", count(distinct case when date_diff(date(t2.bucketDate), date(t2.firstduedate), day) >=60 then t2.loanAccountNumber end) obssixtyplus\n",
    ", count(distinct case when t2.Max_current_DPD >=90 then t2.loanAccountNumber end) nintyplus\n",
    ", count(distinct case when date_diff(date(t2.bucketDate), date(t2.firstduedate), day) >= 90 then t2.loanAccountNumber end) obsnintyplus\n",
    "from `risk_credit_mis.loan_bucket_flow_report_core` t2\n",
    "inner join `risk_credit_mis.loan_master_table` t1 on t2.loanAccountNumber = t1.loanAccountNumber\n",
    "WHERE t1.flagDisbursement = 1\n",
    "and t1.new_loan_type in ('Quick','Flex','SIL-Instore', 'SIL ZERO', 'SIL Competitor', 'SIL Repeat')\n",
    "and t2.loanStatus in ('In Arrears','Normal')\n",
    "and t2.bucketDate in ('2024-11-30')\n",
    ")\n",
    "select \n",
    "case when sum(obsthirtyplus) = 0 then 0 else round(sum(thirtyplus)/sum(obsthirtyplus)*100, 3) end as thirtyplus,\n",
    "case when sum(obsthirtyplus) = 0 then 0 else round(sum(sixtyplus)/sum(obsthirtyplus)*100, 3) end as sixtyplus,\n",
    "case when sum(obsnintyplus) = 0 then 0 else round(sum(nintyplus)/sum(obsnintyplus)*100, 3) end as nintyplus,\n",
    "from b\n",
    "order by 1\n",
    ";\"\"\"\n",
    "\n",
    "thirdpartNov24 = client.query(sq).to_dataframe(progress_bar_type='tqdm')\n",
    "thirdpartNov24"
   ]
  },
  {
   "cell_type": "code",
   "execution_count": 6,
   "metadata": {
    "tags": []
   },
   "outputs": [
    {
     "data": {
      "text/html": [
       "<div>\n",
       "<style scoped>\n",
       "    .dataframe tbody tr th:only-of-type {\n",
       "        vertical-align: middle;\n",
       "    }\n",
       "\n",
       "    .dataframe tbody tr th {\n",
       "        vertical-align: top;\n",
       "    }\n",
       "\n",
       "    .dataframe thead th {\n",
       "        text-align: right;\n",
       "    }\n",
       "</style>\n",
       "<table border=\"1\" class=\"dataframe\">\n",
       "  <thead>\n",
       "    <tr style=\"text-align: right;\">\n",
       "      <th></th>\n",
       "      <th>new_loan_type</th>\n",
       "      <th>percentage_of_FPD30</th>\n",
       "    </tr>\n",
       "  </thead>\n",
       "  <tbody>\n",
       "    <tr>\n",
       "      <th>0</th>\n",
       "      <td>Quick</td>\n",
       "      <td>13.853</td>\n",
       "    </tr>\n",
       "    <tr>\n",
       "      <th>1</th>\n",
       "      <td>SIL Competitor</td>\n",
       "      <td>0.000</td>\n",
       "    </tr>\n",
       "    <tr>\n",
       "      <th>2</th>\n",
       "      <td>SIL ZERO</td>\n",
       "      <td>8.960</td>\n",
       "    </tr>\n",
       "    <tr>\n",
       "      <th>3</th>\n",
       "      <td>Flex</td>\n",
       "      <td>0.222</td>\n",
       "    </tr>\n",
       "    <tr>\n",
       "      <th>4</th>\n",
       "      <td>SIL Repeat</td>\n",
       "      <td>0.000</td>\n",
       "    </tr>\n",
       "  </tbody>\n",
       "</table>\n",
       "</div>"
      ],
      "text/plain": [
       "    new_loan_type  percentage_of_FPD30\n",
       "0           Quick               13.853\n",
       "1  SIL Competitor                0.000\n",
       "2        SIL ZERO                8.960\n",
       "3            Flex                0.222\n",
       "4      SIL Repeat                0.000"
      ]
     },
     "execution_count": 6,
     "metadata": {},
     "output_type": "execute_result"
    }
   ],
   "source": [
    "nov24fpd30.head()"
   ]
  },
  {
   "cell_type": "code",
   "execution_count": 7,
   "metadata": {
    "tags": []
   },
   "outputs": [
    {
     "data": {
      "text/html": [
       "<div>\n",
       "<style scoped>\n",
       "    .dataframe tbody tr th:only-of-type {\n",
       "        vertical-align: middle;\n",
       "    }\n",
       "\n",
       "    .dataframe tbody tr th {\n",
       "        vertical-align: top;\n",
       "    }\n",
       "\n",
       "    .dataframe thead th {\n",
       "        text-align: right;\n",
       "    }\n",
       "</style>\n",
       "<table border=\"1\" class=\"dataframe\">\n",
       "  <thead>\n",
       "    <tr style=\"text-align: right;\">\n",
       "      <th></th>\n",
       "      <th>new_loan_type</th>\n",
       "      <th>thirtyplus</th>\n",
       "      <th>sixtyplus</th>\n",
       "      <th>nintyplus</th>\n",
       "    </tr>\n",
       "  </thead>\n",
       "  <tbody>\n",
       "    <tr>\n",
       "      <th>0</th>\n",
       "      <td>Flex</td>\n",
       "      <td>38.624</td>\n",
       "      <td>34.184</td>\n",
       "      <td>29.856</td>\n",
       "    </tr>\n",
       "    <tr>\n",
       "      <th>1</th>\n",
       "      <td>Quick</td>\n",
       "      <td>34.880</td>\n",
       "      <td>25.909</td>\n",
       "      <td>36.016</td>\n",
       "    </tr>\n",
       "    <tr>\n",
       "      <th>2</th>\n",
       "      <td>SIL Competitor</td>\n",
       "      <td>0.000</td>\n",
       "      <td>0.000</td>\n",
       "      <td>0.000</td>\n",
       "    </tr>\n",
       "    <tr>\n",
       "      <th>3</th>\n",
       "      <td>SIL Repeat</td>\n",
       "      <td>0.000</td>\n",
       "      <td>0.000</td>\n",
       "      <td>0.000</td>\n",
       "    </tr>\n",
       "    <tr>\n",
       "      <th>4</th>\n",
       "      <td>SIL ZERO</td>\n",
       "      <td>12.955</td>\n",
       "      <td>3.224</td>\n",
       "      <td>0.000</td>\n",
       "    </tr>\n",
       "  </tbody>\n",
       "</table>\n",
       "</div>"
      ],
      "text/plain": [
       "    new_loan_type  thirtyplus  sixtyplus  nintyplus\n",
       "0            Flex      38.624     34.184     29.856\n",
       "1           Quick      34.880     25.909     36.016\n",
       "2  SIL Competitor       0.000      0.000      0.000\n",
       "3      SIL Repeat       0.000      0.000      0.000\n",
       "4        SIL ZERO      12.955      3.224      0.000"
      ]
     },
     "execution_count": 7,
     "metadata": {},
     "output_type": "execute_result"
    }
   ],
   "source": [
    "secondpartNov24.head()"
   ]
  },
  {
   "cell_type": "code",
   "execution_count": 8,
   "metadata": {
    "tags": []
   },
   "outputs": [
    {
     "data": {
      "text/html": [
       "<div>\n",
       "<style scoped>\n",
       "    .dataframe tbody tr th:only-of-type {\n",
       "        vertical-align: middle;\n",
       "    }\n",
       "\n",
       "    .dataframe tbody tr th {\n",
       "        vertical-align: top;\n",
       "    }\n",
       "\n",
       "    .dataframe thead th {\n",
       "        text-align: right;\n",
       "    }\n",
       "</style>\n",
       "<table border=\"1\" class=\"dataframe\">\n",
       "  <thead>\n",
       "    <tr style=\"text-align: right;\">\n",
       "      <th></th>\n",
       "      <th>new_loan_type</th>\n",
       "      <th>percentage_of_FPD30</th>\n",
       "      <th>thirtyplus</th>\n",
       "      <th>sixtyplus</th>\n",
       "      <th>nintyplus</th>\n",
       "    </tr>\n",
       "  </thead>\n",
       "  <tbody>\n",
       "    <tr>\n",
       "      <th>0</th>\n",
       "      <td>Quick</td>\n",
       "      <td>13.853</td>\n",
       "      <td>34.880</td>\n",
       "      <td>25.909</td>\n",
       "      <td>36.016</td>\n",
       "    </tr>\n",
       "    <tr>\n",
       "      <th>1</th>\n",
       "      <td>SIL Competitor</td>\n",
       "      <td>0.000</td>\n",
       "      <td>0.000</td>\n",
       "      <td>0.000</td>\n",
       "      <td>0.000</td>\n",
       "    </tr>\n",
       "    <tr>\n",
       "      <th>2</th>\n",
       "      <td>SIL ZERO</td>\n",
       "      <td>8.960</td>\n",
       "      <td>12.955</td>\n",
       "      <td>3.224</td>\n",
       "      <td>0.000</td>\n",
       "    </tr>\n",
       "    <tr>\n",
       "      <th>3</th>\n",
       "      <td>Flex</td>\n",
       "      <td>0.222</td>\n",
       "      <td>38.624</td>\n",
       "      <td>34.184</td>\n",
       "      <td>29.856</td>\n",
       "    </tr>\n",
       "    <tr>\n",
       "      <th>4</th>\n",
       "      <td>SIL Repeat</td>\n",
       "      <td>0.000</td>\n",
       "      <td>0.000</td>\n",
       "      <td>0.000</td>\n",
       "      <td>0.000</td>\n",
       "    </tr>\n",
       "    <tr>\n",
       "      <th>5</th>\n",
       "      <td>SIL-Instore</td>\n",
       "      <td>8.092</td>\n",
       "      <td>27.426</td>\n",
       "      <td>21.011</td>\n",
       "      <td>24.660</td>\n",
       "    </tr>\n",
       "  </tbody>\n",
       "</table>\n",
       "</div>"
      ],
      "text/plain": [
       "    new_loan_type  percentage_of_FPD30  thirtyplus  sixtyplus  nintyplus\n",
       "0           Quick               13.853      34.880     25.909     36.016\n",
       "1  SIL Competitor                0.000       0.000      0.000      0.000\n",
       "2        SIL ZERO                8.960      12.955      3.224      0.000\n",
       "3            Flex                0.222      38.624     34.184     29.856\n",
       "4      SIL Repeat                0.000       0.000      0.000      0.000\n",
       "5     SIL-Instore                8.092      27.426     21.011     24.660"
      ]
     },
     "execution_count": 8,
     "metadata": {},
     "output_type": "execute_result"
    }
   ],
   "source": [
    "dfNov24 = nov24fpd30.merge(secondpartNov24, on='new_loan_type', how='left')\n",
    "dfNov24"
   ]
  },
  {
   "cell_type": "code",
   "execution_count": 9,
   "metadata": {
    "tags": []
   },
   "outputs": [
    {
     "data": {
      "text/html": [
       "<div>\n",
       "<style scoped>\n",
       "    .dataframe tbody tr th:only-of-type {\n",
       "        vertical-align: middle;\n",
       "    }\n",
       "\n",
       "    .dataframe tbody tr th {\n",
       "        vertical-align: top;\n",
       "    }\n",
       "\n",
       "    .dataframe thead th {\n",
       "        text-align: right;\n",
       "    }\n",
       "</style>\n",
       "<table border=\"1\" class=\"dataframe\">\n",
       "  <thead>\n",
       "    <tr style=\"text-align: right;\">\n",
       "      <th></th>\n",
       "      <th>thirtyplus</th>\n",
       "      <th>sixtyplus</th>\n",
       "      <th>nintyplus</th>\n",
       "    </tr>\n",
       "  </thead>\n",
       "  <tbody>\n",
       "    <tr>\n",
       "      <th>0</th>\n",
       "      <td>28.259</td>\n",
       "      <td>21.448</td>\n",
       "      <td>26.057</td>\n",
       "    </tr>\n",
       "  </tbody>\n",
       "</table>\n",
       "</div>"
      ],
      "text/plain": [
       "   thirtyplus  sixtyplus  nintyplus\n",
       "0      28.259     21.448     26.057"
      ]
     },
     "execution_count": 9,
     "metadata": {},
     "output_type": "execute_result"
    }
   ],
   "source": [
    "thirdpartNov24.head()"
   ]
  },
  {
   "cell_type": "code",
   "execution_count": 10,
   "metadata": {
    "tags": []
   },
   "outputs": [],
   "source": [
    "resultNov24 = pd.concat([dfNov24, thirdpartNov24], ignore_index=True)\n"
   ]
  },
  {
   "cell_type": "code",
   "execution_count": 11,
   "metadata": {
    "tags": []
   },
   "outputs": [
    {
     "data": {
      "text/html": [
       "<div>\n",
       "<style scoped>\n",
       "    .dataframe tbody tr th:only-of-type {\n",
       "        vertical-align: middle;\n",
       "    }\n",
       "\n",
       "    .dataframe tbody tr th {\n",
       "        vertical-align: top;\n",
       "    }\n",
       "\n",
       "    .dataframe thead th {\n",
       "        text-align: right;\n",
       "    }\n",
       "</style>\n",
       "<table border=\"1\" class=\"dataframe\">\n",
       "  <thead>\n",
       "    <tr style=\"text-align: right;\">\n",
       "      <th></th>\n",
       "      <th>new_loan_type</th>\n",
       "      <th>percentage_of_FPD30</th>\n",
       "      <th>thirtyplus</th>\n",
       "      <th>sixtyplus</th>\n",
       "      <th>nintyplus</th>\n",
       "    </tr>\n",
       "  </thead>\n",
       "  <tbody>\n",
       "    <tr>\n",
       "      <th>0</th>\n",
       "      <td>Quick</td>\n",
       "      <td>13.853</td>\n",
       "      <td>34.880</td>\n",
       "      <td>25.909</td>\n",
       "      <td>36.016</td>\n",
       "    </tr>\n",
       "    <tr>\n",
       "      <th>1</th>\n",
       "      <td>SIL Competitor</td>\n",
       "      <td>0.000</td>\n",
       "      <td>0.000</td>\n",
       "      <td>0.000</td>\n",
       "      <td>0.000</td>\n",
       "    </tr>\n",
       "    <tr>\n",
       "      <th>2</th>\n",
       "      <td>SIL ZERO</td>\n",
       "      <td>8.960</td>\n",
       "      <td>12.955</td>\n",
       "      <td>3.224</td>\n",
       "      <td>0.000</td>\n",
       "    </tr>\n",
       "    <tr>\n",
       "      <th>3</th>\n",
       "      <td>Flex</td>\n",
       "      <td>0.222</td>\n",
       "      <td>38.624</td>\n",
       "      <td>34.184</td>\n",
       "      <td>29.856</td>\n",
       "    </tr>\n",
       "    <tr>\n",
       "      <th>4</th>\n",
       "      <td>SIL Repeat</td>\n",
       "      <td>0.000</td>\n",
       "      <td>0.000</td>\n",
       "      <td>0.000</td>\n",
       "      <td>0.000</td>\n",
       "    </tr>\n",
       "    <tr>\n",
       "      <th>5</th>\n",
       "      <td>SIL-Instore</td>\n",
       "      <td>8.092</td>\n",
       "      <td>27.426</td>\n",
       "      <td>21.011</td>\n",
       "      <td>24.660</td>\n",
       "    </tr>\n",
       "    <tr>\n",
       "      <th>6</th>\n",
       "      <td>Portfolio</td>\n",
       "      <td>NaN</td>\n",
       "      <td>28.259</td>\n",
       "      <td>21.448</td>\n",
       "      <td>26.057</td>\n",
       "    </tr>\n",
       "  </tbody>\n",
       "</table>\n",
       "</div>"
      ],
      "text/plain": [
       "    new_loan_type  percentage_of_FPD30  thirtyplus  sixtyplus  nintyplus\n",
       "0           Quick               13.853      34.880     25.909     36.016\n",
       "1  SIL Competitor                0.000       0.000      0.000      0.000\n",
       "2        SIL ZERO                8.960      12.955      3.224      0.000\n",
       "3            Flex                0.222      38.624     34.184     29.856\n",
       "4      SIL Repeat                0.000       0.000      0.000      0.000\n",
       "5     SIL-Instore                8.092      27.426     21.011     24.660\n",
       "6       Portfolio                  NaN      28.259     21.448     26.057"
      ]
     },
     "execution_count": 11,
     "metadata": {},
     "output_type": "execute_result"
    }
   ],
   "source": [
    "resultNov24['new_loan_type'] = resultNov24['new_loan_type'].fillna(\"Portfolio\")\n",
    "resultNov24"
   ]
  },
  {
   "cell_type": "code",
   "execution_count": 12,
   "metadata": {
    "tags": []
   },
   "outputs": [],
   "source": [
    "import pandas as pd\n",
    "from openpyxl import load_workbook\n"
   ]
  },
  {
   "cell_type": "code",
   "execution_count": 13,
   "metadata": {
    "tags": []
   },
   "outputs": [],
   "source": [
    "# Load the existing Excel file\n",
    "existing_excel_file = r'C:\\Users\\DwaipayanChakroborti\\OneDrive - Tonik Financial Pte Ltd\\MyStuff\\Collection\\Anne\\Jennifer Zaldivar\\KRI_New_Report\\KRI_Report_New\\Data\\20241102_KRI_Report_New.xlsx'\n",
    "xls = pd.ExcelFile(existing_excel_file)\n",
    "\n",
    "# Read each existing sheet into separate dataframes\n",
    "df_january24 = pd.read_excel(xls, sheet_name='January2024')\n",
    "df_february24 = pd.read_excel(xls, sheet_name='February2024')\n",
    "df_march24 = pd.read_excel(xls, sheet_name='March2024')\n",
    "df_april24 = pd.read_excel(xls, sheet_name='April2024')\n",
    "df_may24 = pd.read_excel(xls, sheet_name='May2024')\n",
    "df_june24 = pd.read_excel(xls, sheet_name='June2024')\n",
    "df_july24 = pd.read_excel(xls, sheet_name='July2024')\n",
    "df_aug24 = pd.read_excel(xls, sheet_name='August2024')\n",
    "df_sep24 = pd.read_excel(xls, sheet_name='September2024')\n",
    "df_oct24 = pd.read_excel(xls, sheet_name='October2024')\n",
    "\n"
   ]
  },
  {
   "cell_type": "code",
   "execution_count": 14,
   "metadata": {
    "tags": []
   },
   "outputs": [
    {
     "data": {
      "text/html": [
       "<div>\n",
       "<style scoped>\n",
       "    .dataframe tbody tr th:only-of-type {\n",
       "        vertical-align: middle;\n",
       "    }\n",
       "\n",
       "    .dataframe tbody tr th {\n",
       "        vertical-align: top;\n",
       "    }\n",
       "\n",
       "    .dataframe thead th {\n",
       "        text-align: right;\n",
       "    }\n",
       "</style>\n",
       "<table border=\"1\" class=\"dataframe\">\n",
       "  <thead>\n",
       "    <tr style=\"text-align: right;\">\n",
       "      <th></th>\n",
       "      <th>new_loan_type</th>\n",
       "      <th>percentage_of_FPD30</th>\n",
       "      <th>thirtyplus</th>\n",
       "      <th>sixtyplus</th>\n",
       "      <th>nintyplus</th>\n",
       "    </tr>\n",
       "  </thead>\n",
       "  <tbody>\n",
       "    <tr>\n",
       "      <th>0</th>\n",
       "      <td>A. Flex</td>\n",
       "      <td>0.567</td>\n",
       "      <td>39.377</td>\n",
       "      <td>35.033</td>\n",
       "      <td>30.878</td>\n",
       "    </tr>\n",
       "    <tr>\n",
       "      <th>1</th>\n",
       "      <td>B. Quick</td>\n",
       "      <td>12.827</td>\n",
       "      <td>35.833</td>\n",
       "      <td>26.217</td>\n",
       "      <td>37.009</td>\n",
       "    </tr>\n",
       "    <tr>\n",
       "      <th>2</th>\n",
       "      <td>C. SIL-Instore</td>\n",
       "      <td>7.532</td>\n",
       "      <td>24.993</td>\n",
       "      <td>18.434</td>\n",
       "      <td>22.735</td>\n",
       "    </tr>\n",
       "    <tr>\n",
       "      <th>3</th>\n",
       "      <td>D. Portfolio</td>\n",
       "      <td>NaN</td>\n",
       "      <td>26.583</td>\n",
       "      <td>19.667</td>\n",
       "      <td>24.595</td>\n",
       "    </tr>\n",
       "  </tbody>\n",
       "</table>\n",
       "</div>"
      ],
      "text/plain": [
       "    new_loan_type  percentage_of_FPD30  thirtyplus  sixtyplus  nintyplus\n",
       "0         A. Flex                0.567      39.377     35.033     30.878\n",
       "1        B. Quick               12.827      35.833     26.217     37.009\n",
       "2  C. SIL-Instore                7.532      24.993     18.434     22.735\n",
       "3    D. Portfolio                  NaN      26.583     19.667     24.595"
      ]
     },
     "execution_count": 14,
     "metadata": {},
     "output_type": "execute_result"
    }
   ],
   "source": [
    "df_oct24"
   ]
  },
  {
   "cell_type": "code",
   "execution_count": 15,
   "metadata": {
    "tags": []
   },
   "outputs": [
    {
     "data": {
      "text/html": [
       "<div>\n",
       "<style scoped>\n",
       "    .dataframe tbody tr th:only-of-type {\n",
       "        vertical-align: middle;\n",
       "    }\n",
       "\n",
       "    .dataframe tbody tr th {\n",
       "        vertical-align: top;\n",
       "    }\n",
       "\n",
       "    .dataframe thead th {\n",
       "        text-align: right;\n",
       "    }\n",
       "</style>\n",
       "<table border=\"1\" class=\"dataframe\">\n",
       "  <thead>\n",
       "    <tr style=\"text-align: right;\">\n",
       "      <th></th>\n",
       "      <th>new_loan_type</th>\n",
       "      <th>percentage_of_FPD30</th>\n",
       "      <th>thirtyplus</th>\n",
       "      <th>sixtyplus</th>\n",
       "      <th>nintyplus</th>\n",
       "    </tr>\n",
       "  </thead>\n",
       "  <tbody>\n",
       "    <tr>\n",
       "      <th>3</th>\n",
       "      <td>A. Flex</td>\n",
       "      <td>0.222</td>\n",
       "      <td>38.624</td>\n",
       "      <td>34.184</td>\n",
       "      <td>29.856</td>\n",
       "    </tr>\n",
       "    <tr>\n",
       "      <th>0</th>\n",
       "      <td>B. Quick</td>\n",
       "      <td>13.853</td>\n",
       "      <td>34.880</td>\n",
       "      <td>25.909</td>\n",
       "      <td>36.016</td>\n",
       "    </tr>\n",
       "    <tr>\n",
       "      <th>5</th>\n",
       "      <td>C. SIL-Instore</td>\n",
       "      <td>8.092</td>\n",
       "      <td>27.426</td>\n",
       "      <td>21.011</td>\n",
       "      <td>24.660</td>\n",
       "    </tr>\n",
       "    <tr>\n",
       "      <th>2</th>\n",
       "      <td>D. SIL ZERO</td>\n",
       "      <td>8.960</td>\n",
       "      <td>12.955</td>\n",
       "      <td>3.224</td>\n",
       "      <td>0.000</td>\n",
       "    </tr>\n",
       "    <tr>\n",
       "      <th>4</th>\n",
       "      <td>E. SIL Repeat</td>\n",
       "      <td>0.000</td>\n",
       "      <td>0.000</td>\n",
       "      <td>0.000</td>\n",
       "      <td>0.000</td>\n",
       "    </tr>\n",
       "    <tr>\n",
       "      <th>1</th>\n",
       "      <td>F. SIL Competitor</td>\n",
       "      <td>0.000</td>\n",
       "      <td>0.000</td>\n",
       "      <td>0.000</td>\n",
       "      <td>0.000</td>\n",
       "    </tr>\n",
       "    <tr>\n",
       "      <th>6</th>\n",
       "      <td>G. Portfolio</td>\n",
       "      <td>NaN</td>\n",
       "      <td>28.259</td>\n",
       "      <td>21.448</td>\n",
       "      <td>26.057</td>\n",
       "    </tr>\n",
       "  </tbody>\n",
       "</table>\n",
       "</div>"
      ],
      "text/plain": [
       "       new_loan_type  percentage_of_FPD30  thirtyplus  sixtyplus  nintyplus\n",
       "3            A. Flex                0.222      38.624     34.184     29.856\n",
       "0           B. Quick               13.853      34.880     25.909     36.016\n",
       "5     C. SIL-Instore                8.092      27.426     21.011     24.660\n",
       "2        D. SIL ZERO                8.960      12.955      3.224      0.000\n",
       "4      E. SIL Repeat                0.000       0.000      0.000      0.000\n",
       "1  F. SIL Competitor                0.000       0.000      0.000      0.000\n",
       "6       G. Portfolio                  NaN      28.259     21.448     26.057"
      ]
     },
     "execution_count": 15,
     "metadata": {},
     "output_type": "execute_result"
    }
   ],
   "source": [
    "# Mapping function to modify 'new_loan_type' values\n",
    "def modify_loan_type(loan_type):\n",
    "    mapping = {'Flex': 'A. Flex', 'SIL-Instore': 'C. SIL-Instore', 'Quick': 'B. Quick', 'SIL ZERO': 'D. SIL ZERO', 'SIL Repeat':'E. SIL Repeat', 'SIL Competitor':'F. SIL Competitor', 'Portfolio': 'G. Portfolio'}\n",
    "    return mapping.get(loan_type, loan_type)  # Return original value if not found\n",
    "\n",
    "# Apply the mapping function to the 'new_loan_type' column\n",
    "resultNov24['new_loan_type'] = resultNov24['new_loan_type'].apply(modify_loan_type)\n",
    "resultNov24.sort_values(by='new_loan_type')"
   ]
  },
  {
   "cell_type": "code",
   "execution_count": 16,
   "metadata": {
    "tags": []
   },
   "outputs": [],
   "source": [
    "# Create a Pandas Excel writer using XlsxWriter as the engine\n",
    "writer = pd.ExcelWriter(r'C:\\Users\\DwaipayanChakroborti\\OneDrive - Tonik Financial Pte Ltd\\MyStuff\\Collection\\Anne\\Jennifer Zaldivar\\KRI_New_Report\\KRI_Report_New\\Data\\20241202_KRI_Report_New.xlsx', engine='xlsxwriter')\n",
    "\n",
    "# Sort each DataFrame by the first column and write to a separate worksheet, ignoring the index\n",
    "df_january24.sort_values(by=df_january24.columns[0]).to_excel(writer, sheet_name='January2024', index=False)\n",
    "df_february24.sort_values(by=df_february24.columns[0]).to_excel(writer, sheet_name='February2024', index=False)\n",
    "df_march24.sort_values(by=df_march24.columns[0]).to_excel(writer, sheet_name='March2024', index=False)\n",
    "df_april24.sort_values(by=df_april24.columns[0]).to_excel(writer, sheet_name='April2024', index=False)\n",
    "df_may24.sort_values(by=df_may24.columns[0]).to_excel(writer, sheet_name='May2024', index=False)\n",
    "df_june24.sort_values(by=df_june24.columns[0]).to_excel(writer, sheet_name='June2024', index=False)\n",
    "df_july24.sort_values(by=df_july24.columns[0]).to_excel(writer, sheet_name='July2024', index=False)\n",
    "df_aug24.sort_values(by=df_aug24.columns[0]).to_excel(writer, sheet_name='August2024', index=False)\n",
    "df_sep24.sort_values(by=df_sep24.columns[0]).to_excel(writer, sheet_name='September2024', index=False)\n",
    "df_oct24.sort_values(by=df_oct24.columns[0]).to_excel(writer, sheet_name='Octboer2024', index = False)\n",
    "resultNov24.sort_values(by=resultNov24.columns[0]).to_excel(writer, sheet_name='November2024', index=False)\n",
    "\n",
    "# Close the Pandas Excel writer and output the Excel file\n",
    "writer.close()"
   ]
  },
  {
   "cell_type": "code",
   "execution_count": null,
   "metadata": {},
   "outputs": [],
   "source": []
  }
 ],
 "metadata": {
  "environment": {
   "kernel": "dc_env",
   "name": "workbench-notebooks.m125",
   "type": "gcloud",
   "uri": "us-docker.pkg.dev/deeplearning-platform-release/gcr.io/workbench-notebooks:m125"
  },
  "kernelspec": {
   "display_name": "reporting",
   "language": "python",
   "name": "python3"
  },
  "language_info": {
   "codemirror_mode": {
    "name": "ipython",
    "version": 3
   },
   "file_extension": ".py",
   "mimetype": "text/x-python",
   "name": "python",
   "nbconvert_exporter": "python",
   "pygments_lexer": "ipython3",
   "version": "3.9.19"
  }
 },
 "nbformat": 4,
 "nbformat_minor": 4
}
